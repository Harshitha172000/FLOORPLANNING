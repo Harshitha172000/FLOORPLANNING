{
  "nbformat": 4,
  "nbformat_minor": 0,
  "metadata": {
    "colab": {
      "name": "Floorplan.ipynb",
      "provenance": [],
      "collapsed_sections": []
    },
    "kernelspec": {
      "display_name": "Python 3",
      "name": "python3"
    }
  },
  "cells": [
    {
      "cell_type": "markdown",
      "metadata": {
        "id": "rACL_yqNb8_X"
      },
      "source": [
        "# **FLOORPLANING** "
      ]
    },
    {
      "cell_type": "code",
      "metadata": {
        "id": "bKYgl4A87pjt"
      },
      "source": [
        "\r\n",
        "\r\n",
        "import random\r\n",
        "import matplotlib \r\n",
        "import matplotlib.pyplot as plt \r\n",
        "import math\r\n",
        "import time\r\n",
        "\r\n",
        "\r\n",
        "#--------------------------Given set of input block dimensions---------------------------------#\r\n",
        "\r\n",
        "block_dimensions=[[1, 10, 5,8, 6,4, 13,5, 11],\r\n",
        "                  [2, 10, 3,8, 4, 4, 9, 5, 6],\r\n",
        "                  [3, 5, 8, 7, 6, 3, 13, 2, 20],\r\n",
        "                  [4, 7, 8, 10, 6, 8, 7, 9, 6],\r\n",
        "                  [5, 3, 2, 1, 7, 2, 4, 5, 1]]\r\n",
        "    \r\n",
        "#-----------------------------------Connectivity matrix--------------------------------#\r\n",
        "\r\n",
        "connectivity_matrix =[[0, 1, 1, 0, 0],\r\n",
        "                      [1, 0, 1, 1, 0],\r\n",
        "                      [1, 1, 0, 1, 1],\r\n",
        "                      [0, 1, 1, 0, 1],\r\n",
        "                      [0, 0, 1, 1, 0]]\r\n",
        "\r\n",
        "#-----------------Obtaining block ids from given input-Block_dimensions----------------#\r\n",
        "block_ids=[]\r\n",
        "for i in range(len(block_dimensions)):\r\n",
        "  block_ids.append(block_dimensions[i][0])\r\n",
        "#print(block_ids)\r\n"
      ],
      "execution_count": 1,
      "outputs": []
    },
    {
      "cell_type": "markdown",
      "metadata": {
        "id": "Fg0ZX1CKjFi7"
      },
      "source": [
        "**initial_polish_exp:** Creates initial polish expression"
      ]
    },
    {
      "cell_type": "code",
      "metadata": {
        "id": "WeKBzZw07y6V"
      },
      "source": [
        "def initial_polish_exp(no_of_ip_blocks):\r\n",
        "  len_pol_exp = 2*no_of_ip_blocks - 1\r\n",
        "  polish_expression = []\r\n",
        "  c=0\r\n",
        "  for i in range(len_pol_exp):\r\n",
        "      \r\n",
        "        if (i%2 == 0 and i != 0 and i != 1):\r\n",
        "            if (c%2==0):\r\n",
        "               polish_expression.append('H')\r\n",
        "            else:\r\n",
        "               polish_expression.append('V')\r\n",
        "            c=c+1\r\n",
        "            \r\n",
        "        elif (i == 0 or i == 1):\r\n",
        "            polish_expression.append(i+1)\r\n",
        "            j = 3\r\n",
        "       \r\n",
        "        else:\r\n",
        "            polish_expression.append(j)\r\n",
        "            j = j+1\r\n",
        "            \r\n",
        "  return (polish_expression)"
      ],
      "execution_count": 2,
      "outputs": []
    },
    {
      "cell_type": "markdown",
      "metadata": {
        "id": "IRoge1-41euR"
      },
      "source": [
        "**postorder_to_inorder**: This module converts polish expression which is postorder traversal to inorder traversal. **checking_if_done** is helper module for this conversion."
      ]
    },
    {
      "cell_type": "code",
      "metadata": {
        "id": "JACWj-gMmred",
        "colab": {
          "base_uri": "https://localhost:8080/"
        },
        "outputId": "0dd91725-014c-4d9c-a8a4-ba6213629c08"
      },
      "source": [
        "def checking_if_done(polish_exp_temp, inorder, done, done_index):\r\n",
        "    \r\n",
        "    for i in range(len(done)):\r\n",
        "        if (polish_exp_temp[i] in inorder):\r\n",
        "            done_index = i + 1\r\n",
        "        else:\r\n",
        "            break\r\n",
        "\r\n",
        "    return done_index\r\n",
        "\r\n",
        "def postorder_to_inorder(polish_exp_temp,operators,operands):\r\n",
        "\r\n",
        "    inorder = []\r\n",
        "    num_stack = []\r\n",
        "    char_stack = []\r\n",
        "    num = 1\r\n",
        "    done = [0]*len(polish_exp_temp)\r\n",
        "    done_index = 0\r\n",
        "\r\n",
        "    i = 0\r\n",
        "    while (len(inorder)<len(polish_exp_temp)):\r\n",
        "\r\n",
        "        x = polish_exp_temp[i]\r\n",
        "\r\n",
        "        if ( (x in operands) and (num == 1) ):\r\n",
        "            inorder.append(x)\r\n",
        "            num = 0\r\n",
        "            i = checking_if_done(polish_exp_temp,inorder,done,done_index)\r\n",
        "            num_stack=[]\r\n",
        "            char_stack=[]\r\n",
        "        elif ((x in operands) and (num == 0) ):\r\n",
        "            num_stack.append(x)\r\n",
        "            i = i + 1\r\n",
        "\r\n",
        "        elif ((x in operators) and ((len(num_stack) - 1) == (len(char_stack)))):\r\n",
        "            inorder.append(x)\r\n",
        "            num = 1\r\n",
        "            i = checking_if_done(polish_exp_temp,inorder,done,done_index)\r\n",
        "            if (len(num_stack)>0):\r\n",
        "                inorder.append(num_stack[0])\r\n",
        "                num = 0\r\n",
        "                i = checking_if_done(polish_exp_temp,inorder,done,done_index)\r\n",
        "\r\n",
        "            num_stack=[]\r\n",
        "            char_stack=[]\r\n",
        "\r\n",
        "        elif ((x in operators) and ((len(num_stack) - 1) != (len(char_stack)))):\r\n",
        "            char_stack.append(x)\r\n",
        "            i = i + 1\r\n",
        "\r\n",
        "    return inorder\r\n",
        "\r\n",
        "print(postorder_to_inorder([1, 2, 'H', 3, 4, 'V', 'H',5, 'V'],['H','V'],[1,2,3,4,5]))\r\n"
      ],
      "execution_count": 3,
      "outputs": [
        {
          "output_type": "stream",
          "text": [
            "[1, 'H', 2, 'H', 3, 'V', 4, 'V', 5]\n"
          ],
          "name": "stdout"
        }
      ]
    },
    {
      "cell_type": "markdown",
      "metadata": {
        "id": "1rm04NHWj5aG"
      },
      "source": [
        "**move1:** Subfunction of **perturb** method, exchanges two operands that have no other operands in between"
      ]
    },
    {
      "cell_type": "code",
      "metadata": {
        "id": "Lt86UoM973BG"
      },
      "source": [
        "def move1(pol_exp):\r\n",
        " \r\n",
        "    polish_exp_temp = pol_exp[:]\r\n",
        "    len_exp = len(polish_exp_temp)\r\n",
        "    operands=[]\r\n",
        "\r\n",
        "    for i in polish_exp_temp:\r\n",
        "      if (i !='H' and i!='V'):\r\n",
        "        operands.append(i)\r\n",
        "\r\n",
        "    i1=random.randint(0,len(operands)-1)\r\n",
        "    node1=operands[i1]\r\n",
        "    if (i1==len(operands)-1):\r\n",
        "      node2=operands[i1-1]\r\n",
        "    else:\r\n",
        "      node2=operands[i1+ 1]\r\n",
        "    \r\n",
        "    for j in range(len_exp):\r\n",
        "      if (node1==polish_exp_temp[j]):\r\n",
        "        loc1=j\r\n",
        "      if (node2==polish_exp_temp[j]):\r\n",
        "        loc2=j   \r\n",
        "\r\n",
        "    polish_exp_temp[loc1]=node2\r\n",
        "    polish_exp_temp[loc2]=node1\r\n",
        "    \r\n",
        "    return polish_exp_temp\r\n",
        "    "
      ],
      "execution_count": 4,
      "outputs": []
    },
    {
      "cell_type": "markdown",
      "metadata": {
        "id": "n2Pa7Y8KlRv9"
      },
      "source": [
        "**move2:** Subfunction of perturb method, complements a series of operators between two operands"
      ]
    },
    {
      "cell_type": "code",
      "metadata": {
        "id": "XqquCHgZ77Fn"
      },
      "source": [
        "def move2(polish_exp):\r\n",
        "\r\n",
        "    polish_exp_temp = polish_exp[:]\r\n",
        "    len_chain = []\r\n",
        "    loc = []\r\n",
        "    \r\n",
        "    for i in range(0,len(polish_exp_temp)-1):\r\n",
        "      if (polish_exp_temp[i]=='H' or polish_exp_temp[i]=='V'):\r\n",
        "        loc.append(i)\r\n",
        "        len_chain.append(1)\r\n",
        "        j=i+1\r\n",
        "        if (j==len(polish_exp_temp)):\r\n",
        "          break\r\n",
        "        while (polish_exp_temp[j]=='H' or polish_exp_temp[j]=='V'):\r\n",
        "          len_chain[len(loc)-1]=len_chain[len(loc)-1]+1\r\n",
        "          j=j+1\r\n",
        "          if (j == len(polish_exp_temp) ):\r\n",
        "                    break\r\n",
        "\r\n",
        "    len_loc = len(loc)\r\n",
        "    rand_loc = 0\r\n",
        "\r\n",
        "    if (len_loc>1):\r\n",
        "        rand_loc = random.randint(0, len_loc-1)\r\n",
        "\r\n",
        "    i = loc[rand_loc]\r\n",
        "    while (i < (loc[rand_loc] + len_chain[rand_loc] )):\r\n",
        "        if(polish_exp_temp[i] == 'V'):\r\n",
        "            polish_exp_temp[i] = 'H'\r\n",
        "        elif(polish_exp_temp[i] == 'H'):\r\n",
        "            polish_exp_temp[i] = 'V'\r\n",
        "        i = i + 1\r\n",
        "\r\n",
        "    return polish_exp_temp"
      ],
      "execution_count": 5,
      "outputs": []
    },
    {
      "cell_type": "markdown",
      "metadata": {
        "id": "sh-zhWC4mM_z"
      },
      "source": [
        "**move3:** Subfunction of **perturb** method, exchanges adjacent operand and operator if the resulting expression is still normalized polish expression"
      ]
    },
    {
      "cell_type": "code",
      "metadata": {
        "id": "NJSdYvWb792f"
      },
      "source": [
        "def move3(polish_exp):\r\n",
        "    \r\n",
        "    polish_exp_temp = polish_exp[:]\r\n",
        "    len_exp = len(polish_exp_temp)\r\n",
        "\r\n",
        "    operator = ['H','V']\r\n",
        "    pol = range(1,len_exp+1)\r\n",
        "    location=[]\r\n",
        "\r\n",
        "    for i in range(len_exp-1):\r\n",
        "      if (polish_exp_temp[i] in operator and polish_exp_temp[i+1] in pol):\r\n",
        "          location.append(i)\r\n",
        "      elif (polish_exp_temp[i] in pol and polish_exp_temp[i+1] in operator):\r\n",
        "          location.append(i)\r\n",
        "\r\n",
        "    r=random.randint(0,len(location)-1)\r\n",
        "    loc=location[r]\r\n",
        "    temp=polish_exp_temp[loc]\r\n",
        "    polish_exp_temp[loc]=polish_exp_temp[loc+1]\r\n",
        "    polish_exp_temp[loc+1]=temp\r\n",
        "\r\n",
        "    return ( polish_exp_temp)\r\n"
      ],
      "execution_count": 6,
      "outputs": []
    },
    {
      "cell_type": "markdown",
      "metadata": {
        "id": "OykEEIphmwlE"
      },
      "source": [
        "**balloting_property**: Checks if given polish expression satisfies balloting property i.e., Number of operands > Number of operators"
      ]
    },
    {
      "cell_type": "code",
      "metadata": {
        "id": "OfmVJhKk8A5z"
      },
      "source": [
        "def balloting_property(polish_exp):\r\n",
        "  polish_exp_temp=polish_exp[:]\r\n",
        "  count1=0\r\n",
        "  count2=0\r\n",
        "  for i in range(0,len(polish_exp)-1):\r\n",
        "    if (polish_exp[i]=='H' or polish_exp[i]=='V'):\r\n",
        "      count1=count1+1\r\n",
        "    else:\r\n",
        "      count2=count2+1\r\n",
        "\r\n",
        "  if (count2>count1):\r\n",
        "    return 0\r\n",
        "  else:\r\n",
        "    return 1\r\n",
        "\r\n",
        "\r\n",
        "\r\n"
      ],
      "execution_count": 7,
      "outputs": []
    },
    {
      "cell_type": "markdown",
      "metadata": {
        "id": "bDBr4PAWnIL-"
      },
      "source": [
        "**normalizes_exp**: Checks if given polish expression is normaized or not. That means no two adjacent operators has to be same. "
      ]
    },
    {
      "cell_type": "code",
      "metadata": {
        "id": "HvIMdITp8DlD"
      },
      "source": [
        "def normalized_exp(polish_exp):\r\n",
        "  \r\n",
        "  \r\n",
        "  for i in range(0,len(polish_exp)-1):\r\n",
        "    if ((polish_exp[i]=='H' and polish_exp[i+1]=='H') or (polish_exp[i]=='V' and polish_exp[i+1]=='V')):\r\n",
        "      return 1\r\n",
        "    \r\n",
        "  return 0\r\n",
        "   \r\n"
      ],
      "execution_count": 8,
      "outputs": []
    },
    {
      "cell_type": "markdown",
      "metadata": {
        "id": "B5exovSR4NjU"
      },
      "source": [
        "**check_if_binary_slicing_tree**: This Module checks if given polish expression is Binary slicing tree"
      ]
    },
    {
      "cell_type": "code",
      "metadata": {
        "id": "ADKJVLuG7L51",
        "colab": {
          "base_uri": "https://localhost:8080/"
        },
        "outputId": "861294f0-8bd9-4234-85ef-c126694915d1"
      },
      "source": [
        "def check_if_binary_slicing_tree(pol_exp):\r\n",
        "  operands=[]\r\n",
        "  operators=[]\r\n",
        "  ch=0;cv=0\r\n",
        "  update=pol_exp[:]\r\n",
        "  if pol_exp[2] not in ['H', 'V']:\r\n",
        "    return 1\r\n",
        "  for i in range(len(pol_exp)):\r\n",
        "    if pol_exp[i] not in ['H', 'V']:\r\n",
        "      operands.append(pol_exp[i])\r\n",
        "    elif (pol_exp[i]=='H'):\r\n",
        "      operators.append('H'+str(ch))\r\n",
        "      update[i]='H'+str(ch)\r\n",
        "      ch=ch+1\r\n",
        "    else:\r\n",
        "      operators.append('V'+str(cv))\r\n",
        "      update[i]='V'+str(cv)\r\n",
        "      cv=cv+1\r\n",
        " # print(update)\r\n",
        " # print(operators)\r\n",
        "  #print(operands)\r\n",
        "  pol=postorder_to_inorder(update,operators, operands)\r\n",
        " # print(pol)\r\n",
        "  \r\n",
        "  check1=pol[0::2]\r\n",
        "  check2=pol[1::2]\r\n",
        " # print(check1)\r\n",
        " # print(check2)\r\n",
        "  \r\n",
        "  if (check1!=operands and check2!=operators):\r\n",
        "    return 1\r\n",
        "  else:\r\n",
        "    return 0\r\n",
        "     \r\n",
        "  \r\n",
        "\r\n",
        "print(check_if_binary_slicing_tree([1, 2,'H', 3, 4, 'H', 5,'H', 'V']))"
      ],
      "execution_count": 9,
      "outputs": [
        {
          "output_type": "stream",
          "text": [
            "0\n"
          ],
          "name": "stdout"
        }
      ]
    },
    {
      "cell_type": "markdown",
      "metadata": {
        "id": "_ZHbJWSbnnyo"
      },
      "source": [
        "**perturb**: Performs different pertubation moves, it chooses moves randomly and also makes sure that polish expression doesn't violate balloting property and remains normalized. It also ensures that polish expression is a binary slicing tree."
      ]
    },
    {
      "cell_type": "code",
      "metadata": {
        "id": "04Ylwez88GWq",
        "colab": {
          "base_uri": "https://localhost:8080/"
        },
        "outputId": "47736336-5155-4629-86f0-fde1d1866904"
      },
      "source": [
        "def perturb(polish_expression):\r\n",
        "\r\n",
        "    polish_exp_temp = polish_expression[:]\r\n",
        "    move_no = random.randint(1,3)\r\n",
        "    #move_no=3\r\n",
        "    if (move_no == 1):\r\n",
        "        polish_exp_temp1 = move1(polish_exp_temp)\r\n",
        "    elif (move_no == 2):\r\n",
        "        polish_exp_temp1 = move2(polish_exp_temp)\r\n",
        "    else:\r\n",
        "        polish_exp_temp1= move3(polish_exp_temp)\r\n",
        "        while (balloting_property(polish_exp_temp1) == 1 or normalized_exp(polish_exp_temp1) == 1\r\n",
        "           or check_if_binary_slicing_tree(polish_exp_temp1) ==1):\r\n",
        "            #print(1)\r\n",
        "\r\n",
        "            polish_exp_temp1= move3(polish_exp_temp)\r\n",
        "    \r\n",
        "            #return ( perturb(polish_exp_temp1))\r\n",
        "    return (polish_exp_temp1)\r\n",
        "print(perturb([1,2,'H',3,'V',4,'H',5,'V']))"
      ],
      "execution_count": 10,
      "outputs": [
        {
          "output_type": "stream",
          "text": [
            "[1, 2, 'H', 3, 'H', 4, 'H', 5, 'V']\n"
          ],
          "name": "stdout"
        }
      ]
    },
    {
      "cell_type": "markdown",
      "metadata": {
        "id": "ZOLyz6b7qQu2"
      },
      "source": [
        "**H1_dimension**: Subfunction of area method, given two blocks which are operands and are horziontally sliced then it computes minimum possible resulting area of combination. Then returns the dimensions of the combined block which is then added to stack in area module."
      ]
    },
    {
      "cell_type": "code",
      "metadata": {
        "id": "hdcNJKMHNKzV",
        "colab": {
          "base_uri": "https://localhost:8080/"
        },
        "outputId": "b4ad73f0-d292-4e31-c11c-15b257a42bb7"
      },
      "source": [
        "def H1_dimension(block1,block2,block_dimensions,sizes, combined_size):\r\n",
        "  \r\n",
        "\r\n",
        "  w1s= block_dimensions[block1-1][1::2] \r\n",
        "  h1s= block_dimensions[block1-1][2::2] \r\n",
        "  w2s= block_dimensions[block2-1][1::2] \r\n",
        "  h2s= block_dimensions[block2-1][2::2] \r\n",
        " # print(w1s,h1s, w2s, h2s)\r\n",
        "\r\n",
        "  \r\n",
        "  areas=[]\r\n",
        "  temp=[]\r\n",
        "  for i in range(len(w1s)):\r\n",
        "    temp=[]\r\n",
        "    for j in range(len(w1s)):\r\n",
        "      temp.append(max(w1s[i],w2s[j])*(h1s[i]+h2s[j]))\r\n",
        "    areas.append(temp)\r\n",
        "\r\n",
        " # print(areas)\r\n",
        "  min=areas[0][0]\r\n",
        "  h=0;k=0;\r\n",
        "  for i in range(len(areas)):\r\n",
        "    for j in range(len(areas)):\r\n",
        "      \r\n",
        "       if (areas[i][j]<min):\r\n",
        "           min=areas[i][j]\r\n",
        "           h=i\r\n",
        "           k=j\r\n",
        "  \r\n",
        "  w2=w2s[k]\r\n",
        "  h1=h1s[h]\r\n",
        "  h2=h2s[k]\r\n",
        "  w1=w1s[h]\r\n",
        "\r\n",
        "  t=[ w1, h1]\r\n",
        "  sizes.append(t)\r\n",
        "  \r\n",
        "  q=[ w2, h2]\r\n",
        "  sizes.append(q)\r\n",
        "  \r\n",
        "  dim=[]\r\n",
        "  dim.append(max(w1,w2))\r\n",
        "  dim.append(h1+h2)\r\n",
        "  combined_size.append(t)\r\n",
        "  combined_size.append(q)\r\n",
        "  combined_size.append([max(w1,w2), h1+h2])\r\n",
        "\r\n",
        "  return (dim, sizes, combined_size)\r\n",
        " \r\n",
        "k=[];l=[]\r\n",
        "H1_dimension(1,3,block_dimensions,k,l)\r\n"
      ],
      "execution_count": 11,
      "outputs": [
        {
          "output_type": "execute_result",
          "data": {
            "text/plain": [
              "([5, 19], [[5, 11], [5, 8]], [[5, 11], [5, 8], [5, 19]])"
            ]
          },
          "metadata": {
            "tags": []
          },
          "execution_count": 11
        }
      ]
    },
    {
      "cell_type": "markdown",
      "metadata": {
        "id": "JQrvwWDPqZEp"
      },
      "source": [
        "**H2_dimension:** Subfunction of area method, given one block which is top in the stack and that being a operand and other being combined block in stack and are horziontally sliced then it computes minimum possible resulting area of combination. Thereafter, it returns minimum possible dimensions to area module which adds resulting combined block onto stack."
      ]
    },
    {
      "cell_type": "code",
      "metadata": {
        "id": "d5ntsh67e8hR",
        "colab": {
          "base_uri": "https://localhost:8080/"
        },
        "outputId": "82927d84-7a79-4286-d60f-dc3e1652d01a"
      },
      "source": [
        "def H2_dimension(block1, block2, block_dimensions,sizes, combined_size):\r\n",
        "  w1s= block_dimensions[block1-1][1::2] \r\n",
        "  h1s= block_dimensions[block1-1][2::2]\r\n",
        "  w2=block2[0]\r\n",
        "  h2=block2[1]\r\n",
        "\r\n",
        "  areas=[]\r\n",
        "  for i in range(len(w1s)):\r\n",
        "    areas.append(max(w1s[i],w2)*(h1s[i]+h2))\r\n",
        "  \r\n",
        " # print(areas)\r\n",
        "  m=areas[0]\r\n",
        "  k=0\r\n",
        "  for i in range(len(areas)):\r\n",
        "    if (m>areas[i]):\r\n",
        "      m=areas[i]\r\n",
        "      k=i\r\n",
        "  w1=w1s[k]\r\n",
        "  h1=h1s[k]\r\n",
        "  t=[ w1, h1]\r\n",
        "  sizes.append(t) \r\n",
        "  dim=[]\r\n",
        "  dim.append(max(w1,w2))\r\n",
        "  dim.append(h1+h2)\r\n",
        " \r\n",
        "  combined_size.append(t)\r\n",
        "  combined_size.append(dim)\r\n",
        "  return dim, sizes, combined_size\r\n",
        "k=[];l=[]\r\n",
        "H2_dimension(1,[12,3],block_dimensions,k,l) "
      ],
      "execution_count": 12,
      "outputs": [
        {
          "output_type": "execute_result",
          "data": {
            "text/plain": [
              "([12, 8], [[10, 5]], [[10, 5], [12, 8]])"
            ]
          },
          "metadata": {
            "tags": []
          },
          "execution_count": 12
        }
      ]
    },
    {
      "cell_type": "markdown",
      "metadata": {
        "id": "7LF9cYdUqqrY"
      },
      "source": [
        "**H3_dimension:** Subfunction of area method, given two blocks which are combined blocks popped out from stack and are horziontally sliced then it computes minimum possible resulting area of combination and returns that to area module."
      ]
    },
    {
      "cell_type": "code",
      "metadata": {
        "id": "n2t2CmxxrYME",
        "colab": {
          "base_uri": "https://localhost:8080/"
        },
        "outputId": "7441c915-d570-4661-aade-e7b4e0dbe322"
      },
      "source": [
        "def H3_dimension(block1,block2, combined_size):\r\n",
        "  dim=[]\r\n",
        "  dim.append(max(block1[0],block2[0]))\r\n",
        "  dim.append(block1[1]+block2[1])\r\n",
        "  \r\n",
        "  combined_size.append(dim)\r\n",
        "  return dim, combined_size\r\n",
        "  \r\n",
        "\r\n",
        "k=[];\r\n",
        "H3_dimension([1,2],[3,6],k)"
      ],
      "execution_count": 13,
      "outputs": [
        {
          "output_type": "execute_result",
          "data": {
            "text/plain": [
              "([3, 8], [[3, 8]])"
            ]
          },
          "metadata": {
            "tags": []
          },
          "execution_count": 13
        }
      ]
    },
    {
      "cell_type": "markdown",
      "metadata": {
        "id": "s9CB8lkqq5hU"
      },
      "source": [
        "**V1_dimension:** Subfunction of area method, given two blocks which are operands and are vertically sliced in polish expression then it computes minimum possible resulting area of combination and returns its dimensions."
      ]
    },
    {
      "cell_type": "code",
      "metadata": {
        "id": "j3aOJUWcsWRn",
        "colab": {
          "base_uri": "https://localhost:8080/"
        },
        "outputId": "acd532a8-6137-4a5d-88a6-9ce7d7119f68"
      },
      "source": [
        "def V1_dimension(block1,block2,block_dimensions,sizes, combined_size):\r\n",
        "   \r\n",
        "  w1s= block_dimensions[block1-1][1::2] \r\n",
        "  h1s= block_dimensions[block1-1][2::2] \r\n",
        "  w2s= block_dimensions[block2-1][1::2] \r\n",
        "  h2s= block_dimensions[block2-1][2::2] \r\n",
        "  areas=[]\r\n",
        "  temp=[]\r\n",
        "  for i in range(len(w1s)):\r\n",
        "    temp=[]\r\n",
        "    for j in range(len(w1s)):\r\n",
        "      temp.append((w1s[i]+w2s[j])*max(h1s[i],h2s[j]))\r\n",
        "    areas.append(temp)\r\n",
        "\r\n",
        "  mm=areas[0][0]\r\n",
        "  n=0;m=0;\r\n",
        "\r\n",
        "  for ii in range(len(areas)):\r\n",
        "    for jj in range(len(areas)) :\r\n",
        "       \r\n",
        "       if (areas[ii][jj]<mm):\r\n",
        "            mm=areas[ii][jj]\r\n",
        "            n=ii\r\n",
        "            m=jj\r\n",
        "  \r\n",
        "  w1=w1s[n]\r\n",
        "  w2=w2s[m]\r\n",
        "  h1=h1s[n]\r\n",
        "  h2=h2s[m]\r\n",
        "  t=[ w1, h1]\r\n",
        "  sizes.append(t)\r\n",
        "  q=[ w2, h2]\r\n",
        "  sizes.append(q)\r\n",
        "   \r\n",
        "  combined_size.append(t)\r\n",
        "  combined_size.append(q)\r\n",
        "\r\n",
        "\r\n",
        "  dim=[]\r\n",
        "  dim.append(w1+w2)\r\n",
        "  dim.append(max(h1,h2))\r\n",
        "  combined_size.append(dim)\r\n",
        "\r\n",
        "  return dim, sizes, combined_size\r\n",
        "\r\n",
        "sizes=[];k=[] \r\n",
        "V1_dimension(1,2,block_dimensions,sizes,k)\r\n"
      ],
      "execution_count": 14,
      "outputs": [
        {
          "output_type": "execute_result",
          "data": {
            "text/plain": [
              "([13, 6], [[8, 6], [5, 6]], [[8, 6], [5, 6], [13, 6]])"
            ]
          },
          "metadata": {
            "tags": []
          },
          "execution_count": 14
        }
      ]
    },
    {
      "cell_type": "markdown",
      "metadata": {
        "id": "clIQzMmDrCmT"
      },
      "source": [
        "**V2_dimension:** Subfunction of area method, given one block which is operand and other being combined block and are vertically sliced in polish expression then it computes minimum possible resulting area of combination and returns its dimensions."
      ]
    },
    {
      "cell_type": "code",
      "metadata": {
        "id": "B6wvv1rbwNI0"
      },
      "source": [
        "def V2_dimension(block1, block2, block_dimensions, sizes, combined_size):\r\n",
        "  w1s= block_dimensions[block1-1][1::2] \r\n",
        "  h1s= block_dimensions[block1-1][2::2] \r\n",
        "\r\n",
        "  w2=block2[0]\r\n",
        "  h2=block2[1]\r\n",
        "\r\n",
        "  areas=[]\r\n",
        "  for i in range(len(w1s)):\r\n",
        "    \r\n",
        "    areas.append(max(h1s[i],h2)*(w1s[i]+w2))\r\n",
        "  \r\n",
        "  m=areas[0]\r\n",
        "  k=0\r\n",
        "  for i in range(len(areas)):\r\n",
        "    if (m>areas[i]):\r\n",
        "      m=areas[i]\r\n",
        "      k=i\r\n",
        "  w1=w1s[k]\r\n",
        "  h1=h1s[k]\r\n",
        "  \r\n",
        "  t=[ w1 ,h1]\r\n",
        "  sizes.append(t)\r\n",
        "\r\n",
        "  combined_size.append(t)\r\n",
        "  dim=[]\r\n",
        "  dim.append(w1+w2)\r\n",
        "  dim.append(max(h1,h2))\r\n",
        "  combined_size.append(dim)\r\n",
        "  return dim, sizes, combined_size\r\n",
        "  \r\n"
      ],
      "execution_count": 15,
      "outputs": []
    },
    {
      "cell_type": "markdown",
      "metadata": {
        "id": "IWvoD05frSai"
      },
      "source": [
        "**V3_dimension:** Subfunction of area method, given two blocks which are combined blocks popped out from stack and are vertically sliced in polish expression then it computes minimum possible resulting area of combination and returns its dimensions."
      ]
    },
    {
      "cell_type": "code",
      "metadata": {
        "id": "ulbM2vRezgGw",
        "colab": {
          "base_uri": "https://localhost:8080/"
        },
        "outputId": "5626e1a5-42c4-4cbc-be18-874c900a3028"
      },
      "source": [
        "def V3_dimension(block1,block2, combined_size):\r\n",
        "  dim=[]\r\n",
        "\r\n",
        "  dim.append(block1[0]+block2[0])\r\n",
        "  dim.append(max(block1[1],block2[1]))\r\n",
        "  combined_size.append(dim)\r\n",
        "  return dim, combined_size\r\n",
        " # print(dim)\r\n",
        "k=[]\r\n",
        "V3_dimension([1,2],[3,6],k)"
      ],
      "execution_count": 16,
      "outputs": [
        {
          "output_type": "execute_result",
          "data": {
            "text/plain": [
              "([4, 6], [[4, 6]])"
            ]
          },
          "metadata": {
            "tags": []
          },
          "execution_count": 16
        }
      ]
    },
    {
      "cell_type": "markdown",
      "metadata": {
        "id": "wQGKO2XFre9N"
      },
      "source": [
        "Creating a tree of polish expression whose each node holds its dimension, block id, its coordinates and information about the nodes which are left and right to it."
      ]
    },
    {
      "cell_type": "code",
      "metadata": {
        "id": "sLd-8MESEp4q"
      },
      "source": [
        "class node:\r\n",
        "    \r\n",
        "    def __init__(self, x):\r\n",
        "        \r\n",
        "        self.id = x                 #holds block id of current node\r\n",
        "        self.left = None            #Information about node which is left of current node\r\n",
        "        self.right = None           #Information about node which is right of current node\r\n",
        "        self.coord = None           #Holds coordinates of current node\r\n",
        "        self.dim = None             #Holds dimensions of current node\r\n",
        "\r\n",
        "class Tree:\r\n",
        "    \r\n",
        "    def buildTree(self, inorder, postorder):\r\n",
        "        \r\n",
        "        if not inorder or not postorder:\r\n",
        "            return None\r\n",
        "        \r\n",
        "        root = node(postorder.pop())\r\n",
        "        inorderIndex = inorder.index(root.id)\r\n",
        "\r\n",
        "        root.right = self.buildTree(inorder[inorderIndex+1:], postorder)\r\n",
        "        root.left = self.buildTree(inorder[:inorderIndex], postorder)\r\n",
        "\r\n",
        "        return root\r\n",
        "\r\n",
        "\r\n",
        "\r\n"
      ],
      "execution_count": 17,
      "outputs": []
    },
    {
      "cell_type": "markdown",
      "metadata": {
        "id": "AhnIrrH-sOhb"
      },
      "source": [
        "**get_coordinates**: This module calculates coordinates of blocks by traversing through tree (inorder traversal) and adds offsets accordingly such that no two blocks overlaps."
      ]
    },
    {
      "cell_type": "code",
      "metadata": {
        "id": "YfPp1eSvUdEm"
      },
      "source": [
        "def get_coordinates(root, combined_size, polish_exp_temp, co_ord, operands):\r\n",
        "\r\n",
        "    if (root.id in operands):\r\n",
        "        co_ord[root.id - 1] = root.coord\r\n",
        "\r\n",
        "    if (root.left == None and root.right == None):\r\n",
        "        return co_ord\r\n",
        "\r\n",
        "    if (root.id[0] == 'H'):\r\n",
        "        root.left.coord = root.coord\r\n",
        "        root.right.coord = [root.coord[0], root.coord[1] + combined_size[polish_exp_temp.index(root.left.id)][1]]\r\n",
        "\r\n",
        "        co_ord = get_coordinates(root.left,  combined_size, polish_exp_temp, co_ord, operands)\r\n",
        "        co_ord = get_coordinates(root.right,  combined_size,  polish_exp_temp, co_ord, operands)\r\n",
        "\r\n",
        "    if (root.id[0] == 'V'):\r\n",
        "        root.left.coord = root.coord\r\n",
        "        root.right.coord = [root.coord[0] + combined_size[polish_exp_temp.index(root.left.id)][0], root.coord[1]]\r\n",
        "\r\n",
        "        co_ord = get_coordinates(root.left,  combined_size, polish_exp_temp, co_ord, operands)\r\n",
        "        co_ord = get_coordinates(root.right,  combined_size, polish_exp_temp, co_ord, operands)    \r\n",
        "\r\n",
        "    return co_ord"
      ],
      "execution_count": 18,
      "outputs": []
    },
    {
      "cell_type": "markdown",
      "metadata": {
        "id": "ut9bsBALsVK2"
      },
      "source": [
        "**area**: Method that computes overall optimized and minimum area occupied by the given polish expression."
      ]
    },
    {
      "cell_type": "code",
      "metadata": {
        "id": "dPEW4PTaGG6L"
      },
      "source": [
        "\r\n",
        "def area(polish_exp, block_dimensions):\r\n",
        "  stack=[]\r\n",
        "  sizes=[]\r\n",
        "  combined_size=[]\r\n",
        "  combined_size_list=[]\r\n",
        "  updated_operators=[]\r\n",
        "  v=0\r\n",
        "  h=0\r\n",
        "  updated_pol_exp=polish_exp[:]\r\n",
        " \r\n",
        "  for i in range(len(polish_exp)):\r\n",
        "\r\n",
        "    if (polish_exp[i]!='H' and polish_exp[i]!='V'):\r\n",
        "      stack.append(polish_exp[i])\r\n",
        "      \r\n",
        "    elif (polish_exp[i]=='H'):\r\n",
        "      top=stack.pop()\r\n",
        "      bottom=stack.pop()\r\n",
        "      \r\n",
        "      if (top in polish_exp and bottom in polish_exp):\r\n",
        "       \r\n",
        "         a,sizes,combined_size=H1_dimension(bottom,top, block_dimensions,sizes,combined_size) \r\n",
        "         stack.append(a)\r\n",
        "        \r\n",
        "         \r\n",
        "      elif (top in polish_exp ):\r\n",
        "    \r\n",
        "         a,sizes, combined_size=H2_dimension(top, bottom, block_dimensions,sizes, combined_size)\r\n",
        "      \r\n",
        "         stack.append(a)\r\n",
        "         \r\n",
        "        \r\n",
        "      elif (bottom in polish_exp):\r\n",
        "      \r\n",
        "         a,sizes, combined_size=H2_dimension(bottom,top,block_dimensions,sizes, combined_size)\r\n",
        "         stack.append(a)\r\n",
        "        \r\n",
        "      else :\r\n",
        "  \r\n",
        "         a, combined_size=H3_dimension(bottom,top,combined_size)\r\n",
        "         stack.append(a)\r\n",
        "         \r\n",
        "      combined_size_list.append('H' + str(h))\r\n",
        "      updated_operators.append(('H' + str(h)))\r\n",
        "      updated_pol_exp[i] = 'H' + str(h)\r\n",
        "      h=h+1\r\n",
        "         \r\n",
        "    else:\r\n",
        "      \r\n",
        "      right=stack.pop()\r\n",
        "      left=stack.pop()\r\n",
        "      \r\n",
        "      if (right in polish_exp and left in polish_exp):\r\n",
        "\r\n",
        "         a,sizes, combined_size=V1_dimension(left,right, block_dimensions,sizes, combined_size)\r\n",
        "         stack.append(a)\r\n",
        "        \r\n",
        "         \r\n",
        "      elif (right in polish_exp ):\r\n",
        "    \r\n",
        "         a,sizes, combined_size=V2_dimension(right,left,block_dimensions,sizes, combined_size)\r\n",
        "        \r\n",
        "         stack.append(a)\r\n",
        "      \r\n",
        "      elif (left in polish_exp):\r\n",
        "        \r\n",
        "         a,sizes, combined_size=V2_dimension(left,right,block_dimensions,sizes, combined_size)\r\n",
        "         stack.append(a)\r\n",
        "     \r\n",
        "       \r\n",
        "      else :\r\n",
        "      \r\n",
        "         a, combined_size=V3_dimension(left,right, combined_size)\r\n",
        "         stack.append(a)\r\n",
        "         \r\n",
        "    \r\n",
        "      combined_size_list.append('V' + str(v))\r\n",
        "      updated_operators.append(('V' + str(v)))\r\n",
        "      updated_pol_exp[i] = 'V' + str(v)\r\n",
        "      v=v+1\r\n",
        "         \r\n",
        "  L=stack.pop()\r\n",
        "  operands=[]\r\n",
        "\r\n",
        "  for i in polish_exp:\r\n",
        "    if i not in ['H', 'V']:\r\n",
        "      operands.append(i)\r\n",
        "  \r\n",
        "  pol_ish=updated_pol_exp[:]\r\n",
        " \r\n",
        "\r\n",
        "  inpo=postorder_to_inorder(updated_pol_exp, updated_operators, operands)\r\n",
        " \r\n",
        "  root = Tree().buildTree( inpo, pol_ish)\r\n",
        "  root.dim=L[:]\r\n",
        "  root.coord = [0,0]\r\n",
        "  co_ord = [[0,0]]*len(operands)\r\n",
        "  \r\n",
        "\r\n",
        "  \r\n",
        "  co_ord = get_coordinates(root, combined_size, updated_pol_exp, co_ord, operands)\r\n",
        "\r\n",
        "  return L,  L[0]*L[1],  sizes, co_ord\r\n",
        "    \r\n"
      ],
      "execution_count": 19,
      "outputs": []
    },
    {
      "cell_type": "markdown",
      "metadata": {
        "id": "RRs5a44v-Yvk"
      },
      "source": [
        "**wirelength**: This module computes wirelengths between two connected blocks"
      ]
    },
    {
      "cell_type": "code",
      "metadata": {
        "id": "Ai2dEbkr4ojk"
      },
      "source": [
        "def wirelength(adj_matrix, block_dimensions, node_coord, polish_expression):\r\n",
        "    \r\n",
        "    weight = 0\r\n",
        "    n = len(adj_matrix[0])\r\n",
        "    operands=[]\r\n",
        "    wires=[]\r\n",
        "    for k in polish_expression:\r\n",
        "      if k not in ['H', 'V']:\r\n",
        "        operands.append(k)\r\n",
        "\r\n",
        "    for i in range(n):\r\n",
        "\r\n",
        "        x1 = node_coord[i][0] + (block_dimensions[i][0])/2\r\n",
        "        y1 = node_coord[i][1] + (block_dimensions[i][1])/2\r\n",
        "        \r\n",
        "\r\n",
        "        for j in range(n):\r\n",
        "            if (adj_matrix[i][j] !=0):\r\n",
        "                x2 = node_coord[j][0] + (block_dimensions[j][0])/2\r\n",
        "                y2 = node_coord[j][1] + (block_dimensions[j][1])/2\r\n",
        "                dist = math.sqrt((x2-x1)**2 + (y2 - y1)**2)\r\n",
        "                weight = weight + dist*adj_matrix[i][j]\r\n",
        "                wires.append([operands[i], operands[j], dist])\r\n",
        "\r\n",
        "    return weight, wires\r\n",
        "#print(wirelength(connectivity_matrix, [[10,3], [10,5],[11,3], [3,4], [6,2]],[[0,0],[10, 0], [0,12],[22,0], [3,4]], [1,2,'H', 3, 4, 'H','V', 5, 'V'] ))"
      ],
      "execution_count": 20,
      "outputs": []
    },
    {
      "cell_type": "markdown",
      "metadata": {
        "id": "HdBgxv6wAKQQ"
      },
      "source": [
        "**cost_func**: Computes cost which is 0.5(Area) + 0.5(Wirelen)"
      ]
    },
    {
      "cell_type": "code",
      "metadata": {
        "id": "u2v_pGUv5Nqx"
      },
      "source": [
        "\r\n",
        "\r\n",
        "def cost_func(polish_expression, block_dimensions, adj_matrix):\r\n",
        "    \r\n",
        "    size, area_of_block, selected_dim, co_ord = area(polish_expression[:], block_dimensions)\r\n",
        "    wirelen, wires_connection = wirelength(adj_matrix, selected_dim, co_ord, polish_expression)\r\n",
        "\r\n",
        "    cost = 0.5*area_of_block + 0.5*wirelen \r\n",
        "\r\n",
        "    return cost,size, area_of_block, co_ord, selected_dim, wires_connection"
      ],
      "execution_count": 21,
      "outputs": []
    },
    {
      "cell_type": "markdown",
      "metadata": {
        "id": "bJEdFYzls0P9"
      },
      "source": [
        "**simulated_annealing**: Algorithm to determine floorplan of given blocks which has variable block dimensions"
      ]
    },
    {
      "cell_type": "code",
      "metadata": {
        "id": "2zdDoRwm8JOf",
        "colab": {
          "base_uri": "https://localhost:8080/",
          "height": 351
        },
        "outputId": "5f84d99a-1f14-46bc-eeab-d2c1e88e26de"
      },
      "source": [
        " def simulated_annealing(adj_matrix, block_ids, block_dimensions):\r\n",
        "  no_of_ip_blocks=len(block_ids)                                    # No of ip blocks is same as number of nodes\r\n",
        "  cursolution=initial_polish_exp(no_of_ip_blocks)\r\n",
        "  noded = dict()\r\n",
        "  loop=0\r\n",
        "  pol_exp=cursolution[:]\r\n",
        "  init_temp_arr=[]\r\n",
        "\r\n",
        "  while (loop < 5):\r\n",
        "        pol_exp=perturb(pol_exp)\r\n",
        "        cst, size, area_temp, coord_temp, sizes, wires = cost_func(pol_exp, block_dimensions, adj_matrix)\r\n",
        "        init_temp_arr.append(cst)\r\n",
        "        loop = loop + 1\r\n",
        "\r\n",
        "  size, area_temp, sizes, coord_temp  = area(pol_exp,block_dimensions)\r\n",
        "  \r\n",
        "  print(\"\\n Initial Polish Expression \", pol_exp)\r\n",
        "  print(\"\\n Initial Size \" + str(area_temp) +  \" = \"+ str(size[0]) +  \"x\" +str(size[1]))\r\n",
        " \r\n",
        "  fig = plt.figure() \r\n",
        "  ax = fig.add_subplot(111) \r\n",
        "  number_of_colors= len (pol_exp)\r\n",
        "  colors = [\"#\"+''.join([random.choice('0123456789ABCDEF') for j in range(6)])\r\n",
        "             for i in range(number_of_colors)] \r\n",
        "  operands=[]\r\n",
        "  for i in pol_exp:\r\n",
        "    if  i not in ['H', 'V']:\r\n",
        "      operands.append(i)\r\n",
        " \r\n",
        "  op=block_ids\r\n",
        "  for i in range(len(operands)):\r\n",
        "     \r\n",
        "                rect = matplotlib.patches.Rectangle((coord_temp[op.index(operands[i])][0], \r\n",
        "                                                     coord_temp[op.index(operands[i])][1]), \r\n",
        "                                                    sizes[i][0], \r\n",
        "                                                    sizes[i][1], \r\n",
        "                                                    facecolor = colors[i], edgecolor = '000000',\r\n",
        "                                                    label = operands[i]) \r\n",
        "            \r\n",
        "                ax.add_patch(rect) \r\n",
        "                ax.text(coord_temp[op.index(operands[i])][0] + 0.1, \r\n",
        "                        coord_temp[op.index(operands[i])][1] + 0.1,\r\n",
        "                        operands[i], fontsize = 10)\r\n",
        "                ax.text(coord_temp[op.index(operands[i])][0] + 0.5, \r\n",
        "                        coord_temp[op.index(operands[i])][1] + 2,\r\n",
        "                        sizes[i], fontsize = 10)\r\n",
        "             \r\n",
        "  plt.xlim([0, size[0]+10]) \r\n",
        "  plt.ylim([0, size[1]+10]) \r\n",
        "\r\n",
        "  plt.title('Initial Floorplanning') \r\n",
        "  plt.savefig(\"Initial_Floorplanning\",dpi=1000)\r\n",
        "  plt.show()\r\n",
        "\r\n",
        "  i = 0\r\n",
        "  sum = 0\r\n",
        "  while (i<4):\r\n",
        "        sum = sum + abs(init_temp_arr[i+1] - init_temp_arr[i])\r\n",
        "        i = i+1\r\n",
        "        \r\n",
        "  avg_cost = sum/4\r\n",
        "  #initial_temperature = -avg_cost/math.log(0.9)\r\n",
        "        \r\n",
        "  #print (\"\\n Initial Temperature calculated:\",initial_temperature)\r\n",
        "  initial_temperature=100  \r\n",
        "  tempfact = 0.9\r\n",
        "  #temperature = initial_temperature\r\n",
        "  temperature =400\r\n",
        "  temp_iteration = 1\r\n",
        "    \r\n",
        "  polish_exp = pol_exp[:]\r\n",
        "  polish_exp_temp = polish_exp[:]\r\n",
        "  reject = 0\r\n",
        "  temp_reject = 0\r\n",
        "    \r\n",
        "  cost, size, _area, _coord, selected_dim, wires  = cost_func(polish_exp, block_dimensions,adj_matrix) # Initial cost (at t=0)\r\n",
        "  cost_temp = 0\r\n",
        "  size_temp = 0\r\n",
        "  best_size = size\r\n",
        "  best_cost = cost\r\n",
        "  best_area = _area\r\n",
        "  best_coord = _coord\r\n",
        "  best_polish_exp = polish_exp_temp[:]\r\n",
        "  best_dim=selected_dim\r\n",
        "  best_connections = wires[:]\r\n",
        "  N = len(adj_matrix[0])\r\n",
        "  no_of_moves = 0\r\n",
        "  uphill  = 0\r\n",
        "  arealist=[]\r\n",
        "  costlist=[]\r\n",
        "\r\n",
        "  timeout = time.time() + 3600\r\n",
        "  while (temperature > (initial_temperature/100000) and time.time()<timeout): # Until the temperature reaches 0.5, keep iterating\r\n",
        "\r\n",
        "        polish_exp_temp  = perturb(polish_exp_temp)\r\n",
        "        no_of_moves = no_of_moves + 1\r\n",
        "\r\n",
        "        cost_temp, size_temp, area_temp, coord_temp, selected_dim_temp, wires_temp = cost_func(polish_exp_temp, block_dimensions,adj_matrix)\r\n",
        "        costlist.append(cost_temp)\r\n",
        "        #arealist.append(area_temp)\r\n",
        "        if (cost < best_cost):\r\n",
        "            best_cost = cost\r\n",
        "            best_size = size\r\n",
        "            best_polish_exp = polish_exp[:]\r\n",
        "            best_area = _area\r\n",
        "            best_dim= selected_dim[:]\r\n",
        "            arealist.append(_area)\r\n",
        "            best_connections= wires[:]\r\n",
        "            #costlist.append(best_cost)\r\n",
        "            best_coord = _coord[:]\r\n",
        "\r\n",
        "        delta_cost = cost_temp - cost\r\n",
        "\r\n",
        "\r\n",
        "        if (delta_cost <= 0):\r\n",
        "            cost = cost_temp\r\n",
        "            size = size_temp\r\n",
        "            _area = area_temp\r\n",
        "            wires = wires_temp[:]\r\n",
        "            selected_dim = selected_dim_temp[:]\r\n",
        "            polish_exp = polish_exp_temp[:]\r\n",
        "            _coord = coord_temp[:]\r\n",
        "            reject = 0\r\n",
        "            temp_reject = 0\r\n",
        "        elif (math.exp(-(delta_cost/temperature)) < random.uniform(0,1)):\r\n",
        "            cost = cost_temp\r\n",
        "            size = size_temp\r\n",
        "            _area = area_temp\r\n",
        "            wires = wires_temp[:]\r\n",
        "            selected_dim = selected_dim_temp[:]\r\n",
        "            polish_exp = polish_exp_temp[:]\r\n",
        "            _coord = coord_temp[:]\r\n",
        "            reject = 0\r\n",
        "            temp_reject = 0\r\n",
        "            uphill = uphill + 1\r\n",
        "        else:\r\n",
        "            reject = reject + 1\r\n",
        "        if (uphill > N or no_of_moves>2*N):\r\n",
        "                \r\n",
        "            uphill = 0\r\n",
        "            no_of_moves = 0\r\n",
        "            temp_reject = temp_reject + 1\r\n",
        "            temperature = temperature*math.pow(tempfact,temp_iteration) \r\n",
        "            temp_iteration = temp_iteration + 1 \r\n",
        "  plt.figure(figsize=(16,9))\r\n",
        "  plt.plot(arealist)\r\n",
        "  plt.xlabel('Accepted temperature')\r\n",
        "  plt.ylabel('Area')\r\n",
        "  plt.show()\r\n",
        "  plt.figure(figsize=(16,9))\r\n",
        "  plt.plot(costlist)\r\n",
        "  plt.xlabel('Iterations')\r\n",
        "  plt.ylabel('Cost')\r\n",
        "  plt.savefig(\"Floorplanning_Cost_vs_Iterations.png\",dpi=1000)\r\n",
        "  plt.show()\r\n",
        "\r\n",
        "  return best_polish_exp, best_area, best_coord, best_size, temperature, best_dim, best_connections, best_cost\r\n",
        "  \r\n",
        "  \r\n",
        "\r\n",
        "best_pol_exp, best_area, best_coord, best_size, temperature, sel_dim, best_connections, best_cost =simulated_annealing(connectivity_matrix, block_ids, block_dimensions)  \r\n",
        "\r\n",
        "operands=[]\r\n",
        "\r\n",
        "fig = plt.figure() \r\n",
        "ax = fig.add_subplot(111) \r\n",
        "for i in best_pol_exp:\r\n",
        "    if  i not in ['H', 'V']:\r\n",
        "      operands.append(i)\r\n",
        "number_of_colors= len (best_pol_exp)\r\n",
        "colors = [\"#\"+''.join([random.choice('0123456789ABCDEF') for j in range(6)])\r\n",
        "             for i in range(number_of_colors)] \r\n",
        "\r\n",
        "op=block_ids\r\n",
        "for i in range(len(operands)):\r\n",
        "     \r\n",
        "                rect = matplotlib.patches.Rectangle((best_coord[op.index(operands[i])][0], \r\n",
        "                                                     best_coord[op.index(operands[i])][1]), \r\n",
        "                                                    sel_dim[i][0], \r\n",
        "                                                    sel_dim[i][1], \r\n",
        "                                                    facecolor = colors[i], edgecolor = '000000',\r\n",
        "                                                    label = operands[i]) \r\n",
        "            \r\n",
        "                ax.add_patch(rect) \r\n",
        "                ax.text(best_coord[op.index(operands[i])][0] + 0.5, \r\n",
        "                        best_coord[op.index(operands[i])][1] + 0.5,\r\n",
        "                        operands[i], fontsize = 10)\r\n",
        "                ax.text(best_coord[op.index(operands[i])][0] + 0.5, \r\n",
        "                        best_coord[op.index(operands[i])][1] + 2,\r\n",
        "                        sel_dim[i], fontsize = 10)\r\n",
        "             \r\n",
        "plt.xlim([0,  best_size[0]+10]) \r\n",
        "plt.ylim([0, best_size[1]+10]) \r\n",
        "\r\n",
        "plt.title('Final Floorplanning') \r\n",
        "plt.savefig(\"Final_Floorplanning\",dpi=1000)\r\n",
        "plt.show()\r\n",
        "\r\n",
        "print (\"Area of Floorplan =\"+ str(best_area)+\"sq units\" )\r\n",
        "#print(best_area, best_pol_exp,sel_dim, best_coord  )\r\n",
        "print(best_pol_exp)\r\n",
        "print(\" Wire connections between blocks:\")\r\n",
        "print(best_connections)\r\n",
        "print(\"Cost of floorplan =\",best_cost)"
      ],
      "execution_count": null,
      "outputs": [
        {
          "output_type": "stream",
          "text": [
            "\n",
            " Initial Polish Expression  [1, 2, 'H', 3, 'H', 4, 'H', 5, 'V']\n",
            "\n",
            " Initial Size 220 = 11x20\n"
          ],
          "name": "stdout"
        },
        {
          "output_type": "display_data",
          "data": {
            "image/png": "[encoded data removed]",
            "text/plain": [
              "<Figure size 432x288 with 1 Axes>"
            ]
          },
          "metadata": {
            "tags": [],
            "needs_background": "light"
          }
        }
      ]
    },
    {
      "cell_type": "markdown",
      "metadata": {
        "id": "mEj0053mIlQe"
      },
      "source": [
        "**Inference**\r\n",
        "\r\n",
        "\r\n",
        "One of execution resulted in minimum area of 182 sq units.\r\n",
        "![182.JPG](data:image/jpeg;base64,/9j/4AAQSkZJRgABAQEAkACQAAD/4RCWRXhpZgAATU0AKgAAAAgABAE7AAIAAAAMAAAISodpAAQAAAABAAAIVpydAAEAAAAYAAAQduocAAcAAAgMAAAAPgAAAAAc6gAAAAgAAAAAAAAAAAAAAAAAAAAAAAAAAAAAAAAAAAAAAAAAAAAAAAAAAAAAAAAAAAAAAAAAAAAAAAAAAAAAAAAAAAAAAAAAAAAAAAAAAAAAAAAAAAAAAAAAAAAAAAAAAAAAAAAAAAAAAAAAAAAAAAAAAAAAAAAAAAAAAAAAAAAAAAAAAAAAAAAAAAAAAAAAAAAAAAAAAAAAAAAAAAAAAAAAAAAAAAAAAAAAAAAAAAAAAAAAAAAAAAAAAAAAAAAAAAAAAAAAAAAAAAAAAAAAAAAAAAAAAAAAAAAAAAAAAAAAAAAAAAAAAAAAAAAAAAAAAAAAAAAAAAAAAAAAAAAAAAAAAAAAAAAAAAAAAAAAAAAAAAAAAAAAAAAAAAAAAAAAAAAAAAAAAAAAAAAAAAAAAAAAAAAAAAAAAAAAAAAAAAAAAAAAAAAAAAAAAAAAAAAAAAAAAAAAAAAAAAAAAAAAAAAAAAAAAAAAAAAAAAAAAAAAAAAAAAAAAAAAAAAAAAAAAAAAAAAAAAAAAAAAAAAAAAAAAAAAAAAAAAAAAAAAAAAAAAAAAAAAAAAAAAAAAAAAAAAAAAAAAAAAAAAAAAAAAAAAAAAAAAAAAAAAAAAAAAAAAAAAAAAAAAAAAAAAAAAAAAAAAAAAAAAAAAAAAAAAAAAAAAAAAAAAAAAAAAAAAAAAAAAAAAAAAAAAAAAAAAAAAAAAAAAAAAAAAAAAAAAAAAAAAAAAAAAAAAAAAAAAAAAAAAAAAAAAAAAAAAAAAAAAAAAAAAAAAAAAAAAAAAAAAAAAAAAAAAAAAAAAAAAAAAAAAAAAAAAAAAAAAAAAAAAAAAAAAAAAAAAAAAAAAAAAAAAAAAAAAAAAAAAAAAAAAAAAAAAAAAAAAAAAAAAAAAAAAAAAAAAAAAAAAAAAAAAAAAAAAAAAAAAAAAAAAAAAAAAAAAAAAAAAAAAAAAAAAAAAAAAAAAAAAAAAAAAAAAAAAAAAAAAAAAAAAAAAAAAAAAAAAAAAAAAAAAAAAAAAAAAAAAAAAAAAAAAAAAAAAAAAAAAAAAAAAAAAAAAAAAAAAAAAAAAAAAAAAAAAAAAAAAAAAAAAAAAAAAAAAAAAAAAAAAAAAAAAAAAAAAAAAAAAAAAAAAAAAAAAAAAAAAAAAAAAAAAAAAAAAAAAAAAAAAAAAAAAAAAAAAAAAAAAAAAAAAAAAAAAAAAAAAAAAAAAAAAAAAAAAAAAAAAAAAAAAAAAAAAAAAAAAAAAAAAAAAAAAAAAAAAAAAAAAAAAAAAAAAAAAAAAAAAAAAAAAAAAAAAAAAAAAAAAAAAAAAAAAAAAAAAAAAAAAAAAAAAAAAAAAAAAAAAAAAAAAAAAAAAAAAAAAAAAAAAAAAAAAAAAAAAAAAAAAAAAAAAAAAAAAAAAAAAAAAAAAAAAAAAAAAAAAAAAAAAAAAAAAAAAAAAAAAAAAAAAAAAAAAAAAAAAAAAAAAAAAAAAAAAAAAAAAAAAAAAAAAAAAAAAAAAAAAAAAAAAAAAAAAAAAAAAAAAAAAAAAAAAAAAAAAAAAAAAAAAAAAAAAAAAAAAAAAAAAAAAAAAAAAAAAAAAAAAAAAAAAAAAAAAAAAAAAAAAAAAAAAAAAAAAAAAAAAAAAAAAAAAAAAAAAAAAAAAAAAAAAAAAAAAAAAAAAAAAAAAAAAAAAAAAAAAAAAAAAAAAAAAAAAAAAAAAAAAAAAAAAAAAAAAAAAAAAAAAAAAAAAAAAAAAAAAAAAAAAAAAAAAAAAAAAAAAAAAAAAAAAAAAAAAAAAAAAAAAAAAAAAAAAAAAAAAAAAAAAAAAAAAAAAAAAAAAAAAAAAAAAAAAAAAAAAAAAAAAAAAAAAAAAAAAAAAAAAAAAAAAAAAAAAAAAAAAAAAAAAAAAAAAAAAAAAAAAAAAAAAAAAAAAAAAAAAAAAAAAAAAAAAAAAAAAAAAAAAAAAAAAAAAAAAAAAAAAAAAAAAAAAAAAAAAAAAAAAAAAAAAAAAAAAAAAAAAAAAAAAAAAAAAAAAAAAAAAAAAAAAAAAAAAAAAAAAAAAAAAAAAAAAAAAAAAAAAAAAAAAAAAAAAAAAAAAAAAAAAAAAAAAAAAAAAAAAAAAAAAAAAAAAAAAAAAAAAAAAAAAAAAAAAAAAAAAAAAAAAAAAAAAAAAAAAAAAAAAAAAAAAAAAAAAAAAAAAAAAAAAAAAAAAAAAAAAAAAAAAAAAAAAAAAAAAAAAAAAAAAAAAAAAAAAAAAAAAAAAAAAAAAAAAAAAAAAAAAAAAAAAAAAAAAAAAAAAAAAAAAAAAAAAAAAAAAAAAAAAAAAAAAAAAAAAAAAAAAAAAAAAAAAAAAAAAAAAAAAAAAAAAAAAAAAAAAAAAAAAAAAAAAAAAAAAAAAAAAAAAAAAAAAAAAAAAAAAAAAAAAAAAAAAAAAAAAAAAAAAAAAAAAAAAAAAAAAAAAAAAAAAAAAAAAAAAAAAAAAAAAAAAAAAAAAAAAAAAAAAAAAAAAAAAAAAAAAAAAAAAAAAAAAAAAAAAAAAAAAAAAAAAAAAAAAAAAAAAAAAAAAAAAAAAAAAAAAAAAAAAAAAAAAAAAAAAAAAAAAAAAAAAAAAAAAAAAAAAAAAAAAAAAAAAAAAAAAAAAAAAAAAAAAAAAAAAAAAAAAAAAAAAAAAAAAAAAAAAAAAAAAAAAAAAAAAAAAAAAAAAAAAAAAAAAAAAAAAAAAAAAAAAAAAAAAAAAAAAAAAAAAAAAAAAAAAAAAAAAEhhcnNoaXRoYSBTAAAB6hwABwAACAwAAAhoAAAAABzqAAAACAAAAAAAAAAAAAAAAAAAAAAAAAAAAAAAAAAAAAAAAAAAAAAAAAAAAAAAAAAAAAAAAAAAAAAAAAAAAAAAAAAAAAAAAAAAAAAAAAAAAAAAAAAAAAAAAAAAAAAAAAAAAAAAAAAAAAAAAAAAAAAAAAAAAAAAAAAAAAAAAAAAAAAAAAAAAAAAAAAAAAAAAAAAAAAAAAAAAAAAAAAAAAAAAAAAAAAAAAAAAAAAAAAAAAAAAAAAAAAAAAAAAAAAAAAAAAAAAAAAAAAAAAAAAAAAAAAAAAAAAAAAAAAAAAAAAAAAAAAAAAAAAAAAAAAAAAAAAAAAAAAAAAAAAAAAAAAAAAAAAAAAAAAAAAAAAAAAAAAAAAAAAAAAAAAAAAAAAAAAAAAAAAAAAAAAAAAAAAAAAAAAAAAAAAAAAAAAAAAAAAAAAAAAAAAAAAAAAAAAAAAAAAAAAAAAAAAAAAAAAAAAAAAAAAAAAAAAAAAAAAAAAAAAAAAAAAAAAAAAAAAAAAAAAAAAAAAAAAAAAAAAAAAAAAAAAAAAAAAAAAAAAAAAAAAAAAAAAAAAAAAAAAAAAAAAAAAAAAAAAAAAAAAAAAAAAAAAAAAAAAAAAAAAAAAAAAAAAAAAAAAAAAAAAAAAAAAAAAAAAAAAAAAAAAAAAAAAAAAAAAAAAAAAAAAAAAAAAAAAAAAAAAAAAAAAAAAAAAAAAAAAAAAAAAAAAAAAAAAAAAAAAAAAAAAAAAAAAAAAAAAAAAAAAAAAAAAAAAAAAAAAAAAAAAAAAAAAAAAAAAAAAAAAAAAAAAAAAAAAAAAAAAAAAAAAAAAAAAAAAAAAAAAAAAAAAAAAAAAAAAAAAAAAAAAAAAAAAAAAAAAAAAAAAAAAAAAAAAAAAAAAAAAAAAAAAAAAAAAAAAAAAAAAAAAAAAAAAAAAAAAAAAAAAAAAAAAAAAAAAAAAAAAAAAAAAAAAAAAAAAAAAAAAAAAAAAAAAAAAAAAAAAAAAAAAAAAAAAAAAAAAAAAAAAAAAAAAAAAAAAAAAAAAAAAAAAAAAAAAAAAAAAAAAAAAAAAAAAAAAAAAAAAAAAAAAAAAAAAAAAAAAAAAAAAAAAAAAAAAAAAAAAAAAAAAAAAAAAAAAAAAAAAAAAAAAAAAAAAAAAAAAAAAAAAAAAAAAAAAAAAAAAAAAAAAAAAAAAAAAAAAAAAAAAAAAAAAAAAAAAAAAAAAAAAAAAAAAAAAAAAAAAAAAAAAAAAAAAAAAAAAAAAAAAAAAAAAAAAAAAAAAAAAAAAAAAAAAAAAAAAAAAAAAAAAAAAAAAAAAAAAAAAAAAAAAAAAAAAAAAAAAAAAAAAAAAAAAAAAAAAAAAAAAAAAAAAAAAAAAAAAAAAAAAAAAAAAAAAAAAAAAAAAAAAAAAAAAAAAAAAAAAAAAAAAAAAAAAAAAAAAAAAAAAAAAAAAAAAAAAAAAAAAAAAAAAAAAAAAAAAAAAAAAAAAAAAAAAAAAAAAAAAAAAAAAAAAAAAAAAAAAAAAAAAAAAAAAAAAAAAAAAAAAAAAAAAAAAAAAAAAAAAAAAAAAAAAAAAAAAAAAAAAAAAAAAAAAAAAAAAAAAAAAAAAAAAAAAAAAAAAAAAAAAAAAAAAAAAAAAAAAAAAAAAAAAAAAAAAAAAAAAAAAAAAAAAAAAAAAAAAAAAAAAAAAAAAAAAAAAAAAAAAAAAAAAAAAAAAAAAAAAAAAAAAAAAAAAAAAAAAAAAAAAAAAAAAAAAAAAAAAAAAAAAAAAAAAAAAAAAAAAAAAAAAAAAAAAAAAAAAAAAAAAAAAAAAAAAAAAAAAAAAAAAAAAAAAAAAAAAAAAAAAAAAAAAAAAAAAAAAAAAAAAAAAAAAAAAAAAAAAAAAAAAAAAAAAAAAAAAAAAAAAAAAAAAAAAAAAAAAAAAAAAAAAAAAAAAAAAAAAAAAAAAAAAAAAAAAAAAAAAAAAAAAAAAAAAAAAAAAAAAAAAAAAAAAAAAAAAAAAAAAAAAAAAAAAAAAAAAAAAAAAAAAAAAAAAAAAAAAAAAAAAAAAAAAAAAAAAAAAAAAAAAAAAAAAAAAAAAAAAAAAAAAAAAAAAAAAAAAAAAAAAAAAAAAAAAAAAAAAAAAAAAAAAAAAAAAAAAAAAAAAAAAAAAAAAAAAAAAAAAAAAAAAAAAAAAAAAAAAAAAAAAAAAAAAAAAAAAAAAAAAAAAAAAAAAAAAAAAAAAAAAAAAAAAAAAAAAAAAAAAAAAAAAAAAAAAAAAAAAAAAAAAAAAAAAAAAAAAAAAAAAAAAAAAAAAAAAAAAAAAAAAAAAAAAAAAAAAAAAAAAAAAAAAAAAAAAAAAAAAAAAAAAAAAAAAAAAAAAAAAAAAAAAAAAAAAAAAAAAAAAAAAAAAAAAAAAAAAAAAAAAAAAAAAAAAAAAAAAAAAAAAAAAAAAAAAAAAAAAAAAAAAAAAAAAAAAAAAAAAAAAAAAAAAAAAAAAAAAAAAAAAAAAAAAAAAAAAAAAAAAAAAAAAAAAAAAAAAAAAAAAAAAAAAAAAAAAAAAAAAAAAAAAAAAAAAAAAAAAAAAAAAAAAAAAAAAAAAAAAAAAAAAAAAAAAAAAAAAAAAAAAAAAAAAAAAAAAAAAAAAAAAAAAAAAAAAAAAAAAAAAAAAAAAAAAAAAAAAAAAAAAAAAAAAAAAAAAAAAAAAAAAAAAAAAAAAAAAAAAAAAAAAAAAAAAAAAAAAAAAAAAAAAAAAAAAAAAAAAAAAAAAAAAAAAAAAABIAGEAcgBzAGgAaQB0AGgAYQAgAFMAAAD/4QpkaHR0cDovL25zLmFkb2JlLmNvbS94YXAvMS4wLwA8P3hwYWNrZXQgYmVnaW49J++7vycgaWQ9J1c1TTBNcENlaGlIenJlU3pOVGN6a2M5ZCc/Pg0KPHg6eG1wbWV0YSB4bWxuczp4PSJhZG9iZTpuczptZXRhLyI+PHJkZjpSREYgeG1sbnM6cmRmPSJodHRwOi8vd3d3LnczLm9yZy8xOTk5LzAyLzIyLXJkZi1zeW50YXgtbnMjIj48cmRmOkRlc2NyaXB0aW9uIHJkZjphYm91dD0idXVpZDpmYWY1YmRkNS1iYTNkLTExZGEtYWQzMS1kMzNkNzUxODJmMWIiIHhtbG5zOmRjPSJodHRwOi8vcHVybC5vcmcvZGMvZWxlbWVudHMvMS4xLyIvPjxyZGY6RGVzY3JpcHRpb24gcmRmOmFib3V0PSJ1dWlkOmZhZjViZGQ1LWJhM2QtMTFkYS1hZDMxLWQzM2Q3NTE4MmYxYiIgeG1sbnM6ZGM9Imh0dHA6Ly9wdXJsLm9yZy9kYy9lbGVtZW50cy8xLjEvIj48ZGM6Y3JlYXRvcj48cmRmOlNlcSB4bWxuczpyZGY9Imh0dHA6Ly93d3cudzMub3JnLzE5OTkvMDIvMjItcmRmLXN5bnRheC1ucyMiPjxyZGY6bGk+SGFyc2hpdGhhIFM8L3JkZjpsaT48L3JkZjpTZXE+DQoJCQk8L2RjOmNyZWF0b3I+PC9yZGY6RGVzY3JpcHRpb24+PC9yZGY6UkRGPjwveDp4bXBtZXRhPg0KICAgICAgICAgICAgICAgICAgICAgICAgICAgICAgICAgICAgICAgICAgICAgICAgICAgICAgICAgICAgICAgICAgICAgICAgICAgICAgICAgICAgICAgICAgICAgICAgICAgIAogICAgICAgICAgICAgICAgICAgICAgICAgICAgICAgICAgICAgICAgICAgICAgICAgICAgICAgICAgICAgICAgICAgICAgICAgICAgICAgICAgICAgICAgICAgICAgICAgICAgCiAgICAgICAgICAgICAgICAgICAgICAgICAgICAgICAgICAgICAgICAgICAgICAgICAgICAgICAgICAgICAgICAgICAgICAgICAgICAgICAgICAgICAgICAgICAgICAgICAgICAKICAgICAgICAgICAgICAgICAgICAgICAgICAgICAgICAgICAgICAgICAgICAgICAgICAgICAgICAgICAgICAgICAgICAgICAgICAgICAgICAgICAgICAgICAgICAgICAgICAgIAogICAgICAgICAgICAgICAgICAgICAgICAgICAgICAgICAgICAgICAgICAgICAgICAgICAgICAgICAgICAgICAgICAgICAgICAgICAgICAgICAgICAgICAgICAgICAgICAgICAgCiAgICAgICAgICAgICAgICAgICAgICAgICAgICAgICAgICAgICAgICAgICAgICAgICAgICAgICAgICAgICAgICAgICAgICAgICAgICAgICAgICAgICAgICAgICAgICAgICAgICAKICAgICAgICAgICAgICAgICAgICAgICAgICAgICAgICAgICAgICAgICAgICAgICAgICAgICAgICAgICAgICAgICAgICAgICAgICAgICAgICAgICAgICAgICAgICAgICAgICAgIAogICAgICAgICAgICAgICAgICAgICAgICAgICAgICAgICAgICAgICAgICAgICAgICAgICAgICAgICAgICAgICAgICAgICAgICAgICAgICAgICAgICAgICAgICAgICAgICAgICAgCiAgICAgICAgICAgICAgICAgICAgICAgICAgICAgICAgICAgICAgICAgICAgICAgICAgICAgICAgICAgICAgICAgICAgICAgICAgICAgICAgICAgICAgICAgICAgICAgICAgICAKICAgICAgICAgICAgICAgICAgICAgICAgICAgICAgICAgICAgICAgICAgICAgICAgICAgICAgICAgICAgICAgICAgICAgICAgICAgICAgICAgICAgICAgICAgICAgICAgICAgIAogICAgICAgICAgICAgICAgICAgICAgICAgICAgICAgICAgICAgICAgICAgICAgICAgICAgICAgICAgICAgICAgICAgICAgICAgICAgICAgICAgICAgICAgICAgICAgICAgICAgCiAgICAgICAgICAgICAgICAgICAgICAgICAgICAgICAgICAgICAgICAgICAgICAgICAgICAgICAgICAgICAgICAgICAgICAgICAgICAgICAgICAgICAgICAgICAgICAgICAgICAKICAgICAgICAgICAgICAgICAgICAgICAgICAgICAgICAgICAgICAgICAgICAgICAgICAgICAgICAgICAgICAgICAgICAgICAgICAgICAgICAgICAgICAgICAgICAgICAgICAgIAogICAgICAgICAgICAgICAgICAgICAgICAgICAgICAgICAgICAgICAgICAgICAgICAgICAgICAgICAgICAgICAgICAgICAgICAgICAgICAgICAgICAgICAgICAgICAgICAgICAgCiAgICAgICAgICAgICAgICAgICAgICAgICAgICAgICAgICAgICAgICAgICAgICAgICAgICAgICAgICAgICAgICAgICAgICAgICAgICAgICAgICAgICAgICAgICAgICAgICAgICAKICAgICAgICAgICAgICAgICAgICAgICAgICAgICAgICAgICAgICAgICAgICAgICAgICAgICAgICAgICAgICAgICAgICAgICAgICAgICAgICAgICAgICAgICAgICAgICAgICAgIAogICAgICAgICAgICAgICAgICAgICAgICAgICAgICAgICAgICAgICAgICAgICAgICAgICAgICAgICAgICAgICAgICAgICAgICAgICAgICAgICAgICAgICAgICAgICAgICAgICAgCiAgICAgICAgICAgICAgICAgICAgICAgICAgICAgICAgICAgICAgICAgICAgICAgICAgICAgICAgICAgICAgICAgICAgICAgICAgICAgICAgICAgICAgICAgICAgICAgICAgICAKICAgICAgICAgICAgICAgICAgICAgICAgICAgICAgICAgICAgICAgICAgICAgICAgICAgICAgICAgICAgICAgICAgICAgICAgICAgICAgICAgICAgICAgICAgICAgICAgICAgIAogICAgICAgICAgICAgICAgICAgICAgICAgICAgICAgICAgICAgICAgICAgICAgICAgICAgICAgICAgICAgICAgICAgICAgICAgICAgICAgICAgICAgICAgICAgICAgICAgICAgCiAgICAgICAgICAgICAgICAgICAgICAgICAgICA8P3hwYWNrZXQgZW5kPSd3Jz8+/9sAQwAHBQUGBQQHBgUGCAcHCAoRCwoJCQoVDxAMERgVGhkYFRgXGx4nIRsdJR0XGCIuIiUoKSssKxogLzMvKjInKisq/9sAQwEHCAgKCQoUCwsUKhwYHCoqKioqKioqKioqKioqKioqKioqKioqKioqKioqKioqKioqKioqKioqKioqKioqKioq/8AAEQgCKgK+AwEiAAIRAQMRAf/EAB8AAAEFAQEBAQEBAAAAAAAAAAABAgMEBQYHCAkKC//EALUQAAIBAwMCBAMFBQQEAAABfQECAwAEEQUSITFBBhNRYQcicRQygZGhCCNCscEVUtHwJDNicoIJChYXGBkaJSYnKCkqNDU2Nzg5OkNERUZHSElKU1RVVldYWVpjZGVmZ2hpanN0dXZ3eHl6g4SFhoeIiYqSk5SVlpeYmZqio6Slpqeoqaqys7S1tre4ubrCw8TFxsfIycrS09TV1tfY2drh4uPk5ebn6Onq8fLz9PX29/j5+v/EAB8BAAMBAQEBAQEBAQEAAAAAAAABAgMEBQYHCAkKC//EALURAAIBAgQEAwQHBQQEAAECdwABAgMRBAUhMQYSQVEHYXETIjKBCBRCkaGxwQkjM1LwFWJy0QoWJDThJfEXGBkaJicoKSo1Njc4OTpDREVGR0hJSlNUVVZXWFlaY2RlZmdoaWpzdHV2d3h5eoKDhIWGh4iJipKTlJWWl5iZmqKjpKWmp6ipqrKztLW2t7i5usLDxMXGx8jJytLT1NXW19jZ2uLj5OXm5+jp6vLz9PX29/j5+v/aAAwDAQACEQMRAD8A948K+JrLxb4fg1XTiQj/ACyRsfmicdVP0z+IINbNeDfs+alImu6rpe7MUtsLgKezIwXI+u/9BXvNABRRRQAUUUUAFFFFABRRRQAUUUUAFFFFABRRRQAUUUUAFFFFABRRRQAUUUUAFFFFABRRRQAUUUUAFFFFABRRRQAUUUUAFFFFABRRRQAUUUUAFFFFABRRRQAUUUUAFFFFABRRRQAUUUUAFFFFABRRRQAUUUUAFFFFABRRRQAUUUUAFFFFABRRRQAUUUUAFFFFABRRRQAUUUUAFFFFABRRRQAUUUUAFFFFABRRRQB4v+z/AKBNFHqWvToVjmAtrcn+MA5c/TIUZ+vpXtFQWVlbabYw2djCkFvAgSONBgKBU9ABRRRQAUUUUAFFFFABRRRQAUUUUAFFFFABRRRQAUUUUAFFFFABRRRQAUUUUAFFFFABRRRQAUUVQ1XXNL0OFJdZ1C2sY5DtRriQIGPoM0AX6KwovGWh3cW/Sr5NUxKkTLYETFCxwCwXoPet0HIBoAKKKKACiszRvEFjrr3a6ezk2kvlS7024b29adqviHR9CEZ1nU7WxEhwn2iUJu+maANGisCbxx4ej0mbUoNThvLaFgsjWjiXaT06fStuCZLi3jnjzskQOuR2IyKAJKKKKACiiigAorMvfEFjYa9YaPcM4u9QSR4AEypCY3ZPbqK06ACiiigAooqodRQar9g8m43+WJPN8o+XjOMbumeOlAFuiiigAooooAKKKKACiiigAooooAKKKKACiiigAooooAKKKKACiiigAooooAKKKKACiiigAooooAKKKKACiiigAooooAKKKKACiiigAooooAKKKKACiiigAooooAKKKKACiiigAooooAKKKKACiiigAooooAKKKKACiiigAooooAKKKKACiiigArzP4uzLBqXhOR9Pk1FVvpM20aB2f932B4NemVznifwzNr2raHdw3CRLplw8zqwJLgptwKAOV1zxJcadoFrd6N4fuPDksuq2tvJ59rGhlR3ww+XPanXWoeKNZ+Id/ounawdOsoLdZRIkSuwbC8YI966rxn4bm8UaXZ2sFwkDW9/BdlnBIIjbJHHc1Hp/haaz8aX+tNcRtHdQiNYwpyuABnP4UAYWg+JNSv8AwVqg1PVI7O9026NrJfsoxxtO7GMZwfSsnw145dPH1loieKU8SWt7FIxkMIjeFlxxgAAg5/StS5+GdzceH9Xsf7QiWa91L7dC207VxtwrDv8Ad7Utp4D1+bxdpOua1qVgx09JE8i0hZFIbHIz34oAl+GH/Hz4j/6//wChrM+JVwlt8QPCkkmky6uokl/0SGNXZ/3bdm4rrvCfhmbw7LqjzXCTfbbjzl2AjaMdDRrHhmbUvGOiaylwiR6a0jPGVOX3IV4/OgDlPF9xDdfDW8lh8PzaGTMoMM8CRs3XnCk1O+p63rWu2fh3QtROlxW+npLPcrGruW2rhQGBGMGur8YaBL4l8Oy6bBMkDuwYO4JAx9KxdS8GarDq1pq3hnULe1vo7UW0wuUZo5QAOcDnPAoAwJPiBrGl+H9VsbspcavY3y2Uc+MCTcVG8j1+bp7VpR3/AIj8KeJ9KtNd1b+1rXUsoxaJUML8YA2gZGT39KlT4aCfw3f2upXvm6nf3Iu5btBgLKCpGB6fKKm0/wAH67d+ILLUvFuqWt4NPUi3itY2UEnHzNu6ngdKAMnwne+KvEuoapc3GuNa2en3TJHFHCh85Rngkjj8KztE1Lxvrfh3UdbGveSNPlcpbiFCsyIMnccZHGeldx4X8MzeGrLVFnuEn+1TNMuwEbQc8c/WvPPBPh3xJqXhu/t9J1e2t9PvLlxOk0bNIAQAQhHAyPWgDV/tn/hIfHHw/wBVKeW11p9zIyf3SVjJFQeMfFs2h3F5cw+O4Y7mA5TSzApRv9kttzXVp4EFrrfhm5sbhEtdCtZbfy2BLSbgoBz/AMBrn3+GWvxWOpaVY6tYJp19Izl5IWNwu45xu6d/SgCTXvFeu383g1fD10tp/bTSCbKgjAjJzyD0xmprDXNd0jW9e0LVNSOova2Yuba7eNUbJVjggDHGBWhb+A7mCfwlIb2JhoHmeb8p/e7kK8enWrV74OuLrxZqerLdRrHe2QtljKnKkKRk/nQBw66/4ytfAaeMrvWt6QSMZLAQpskQOV+9jIPSusufEepD4hSadHPttP7HF0I9o4kJbnPXsKW78BXNz8LZvCq3sKzyKwE5U7Rl93TrVyTwfO/i9tYF1GIzpgsvL2nO4bvm+nNAHDW+u+M5fA954sl1zYthNKfsYhTbLGh7nGQceldDfa/rXiLxBpeiaHff2X52ni+uLlUV2GdvygMCP4qvR+BLlPhrqPhk3kRmvFmCzbTtXeOMjrxVHW/D0ukX2kahpmt2Om6naWK2jteZ8qZBjPGQc5Ud6AJfAWsa9c+Kde0nX7xboae+yJwgXcOOTge9d/Xl/wAKILmXxF4l1K4uftYmudhuFUhJGAByue1eoUAFFFFABRRRQAUUUUAFFFFABRRRQAUUUUAFFFFABRRRQAUUUUAFFFFABRRRQAUUUUAFFFFABRRRQAUUUUAFFFFABRRRQAUUUUANjkSaJZImDowyrA8EU6q9hZRadZpbwZKr3J5J7mrFABRRRQAUUUUAFFFFAHO+KPEV/ot5pVppWmx39zqMrxqsk/lBdq7s5wfSqv8AbHjb/oVrL/wZj/4mjxR/yOnhH/r6n/8ARJrrKAOT/tjxt/0K1l/4Mx/8TR/bHjb/AKFay/8ABmP/AImusooA5P8Atjxt/wBCtZf+DMf/ABNH9seNv+hWsv8AwZj/AOJrrKKAOT/tjxt/0K1l/wCDMf8AxNH9seNv+hWsv/BmP/ia6yigDk/7Y8bf9CtZf+DMf/E0f2x42/6Fay/8GY/+JrrKKAOT/tjxt/0K1l/4Mx/8TR/bHjb/AKFay/8ABmP/AImusooA5P8Atjxt/wBCtZf+DMf/ABNH9seNv+hWsv8AwZj/AOJrrKKAOT/tjxt/0K1l/wCDMf8AxNH9seNv+hWsv/BmP/ia6yigDk/7Y8bf9CtZf+DMf/E0f2x42/6Fay/8GY/+JrrKKAOT/tjxt/0K1l/4Mx/8TR/bHjb/AKFay/8ABmP/AImusooA5P8Atjxt/wBCtZf+DMf/ABNH9seNv+hWsv8AwZj/AOJrrKKAOT/tjxt/0K1l/wCDMf8AxNH9seNv+hWsv/BmP/ia6yigDk/7Y8bf9CtZf+DMf/E0f2x42/6Fay/8GY/+JrrKKAOT/tjxt/0K1l/4Mx/8TR/bHjb/AKFay/8ABmP/AImusooA5P8Atjxt/wBCtZf+DMf/ABNH9seNv+hWsv8AwZj/AOJrrKKAOT/tjxt/0K1l/wCDMf8AxNH9seNv+hWsv/BmP/ia6yigDkzq/jUgg+FbIg9f+JmP/iagtLrxXYRGKy8HadAhO4rHqKqCfX7tdnRQByf9seNv+hWsv/BmP/iaP7Y8bf8AQrWX/gzH/wATXWUUAcn/AGx42/6Fay/8GY/+Jo/tjxt/0K1l/wCDMf8AxNdZRQByf9seNv8AoVrL/wAGY/8AiaP7Y8bf9CtZf+DMf/E11lFAHJ/2x42/6Fay/wDBmP8A4mqGqQ+INbRU1fwLpN6qHKie+V8fmld3RQBxllc+K9NtVtrDwbp1tCv3Y4tRVVH4Ban/ALY8bf8AQrWX/gzH/wATXWUUAcn/AGx42/6Fay/8GY/+Jo/tjxt/0K1l/wCDMf8AxNdZRQByf9seNv8AoVrL/wAGY/8AiaP7Y8bf9CtZf+DMf/E11lFAHJ/2x42/6Fay/wDBmP8A4mj+2PG3/QrWX/gzH/xNdZRQByf9seNv+hWsv/BmP/iaP7Y8bf8AQrWX/gzH/wATXWUUAcn/AGx42/6Fay/8GY/+Jo/tjxt/0K1l/wCDMf8AxNdZRQByf9seNv8AoVrL/wAGY/8AiaP7Y8bf9CtZf+DMf/E11lFAHJ/2x42/6Fay/wDBmP8A4mj+2PG3/QrWX/gzH/xNdZRQByf9seNv+hWsv/BmP/iaP7Y8bf8AQrWX/gzH/wATXWUUAcn/AGx42/6Fay/8GY/+Jo/tjxt/0K1l/wCDMf8AxNdZRQByf9seNv8AoVrL/wAGY/8Aial0HxLq194mutG1rSIrCWG1W5VornzQwZiuOgx0rp65O2/5K9ff9geL/wBGtQB1lFFFABRRRQAUUUUAFFFFABRRRQAUUUUAFFFFABRRRQAUUUUAFFFFABRRRQAUUUUAcn4o/wCR08I/9fU//ok11lcn4o/5HTwj/wBfU/8A6JNdZQAUUUUAFFFFABRRRQAUUUUAFFFFABRRRQAUUUUAFFFFABRRRQAUUUUAFFFFABRRRQAUUUUAFFFFABRRRQAUUUUAFFFFABRRRQAUUUUAFFFFABRRRQAUUUUAFFFFABRRRQAUUUUAFFFFABRRRQAUUUUAFFFFABRRRQAVydt/yV6+/wCwPF/6Nausrk7b/kr19/2B4v8A0a1AHWUUUUAFFFFABRRRQAUUUUAFFFFABRRRQAUUUUAFFFFABRRRQAUUUUAFFFFABRRRQByfij/kdPCP/X1P/wCiTXWVyfij/kdPCP8A19T/APok11lABRRRQAUUUUAFFFFABRRRQAUUUUAFFFFABRRRQAUUUUAFFFFABRRRQAUUUUAFFFFABRRRQAUUUUAFFFFABRRRQAUUUUAFFFFABRRRQAUUUUAFFFFABRRRQAUUUUAFFFFABRRRQAUUUUAFFFFABRRRQAUUUUAFFFFABXJ23/JXr7/sDxf+jWrrK5O2/wCSvX3/AGB4v/RrUAdZRRRQAUUUUAFFFFABRRRQAUUUUAFFFFABRRRQAUUUUAFFFFABRRRQAVzF3490qx1FrS6t9QiCyCI3LWrCEMeB8/TvXT1wPiu+TxPqg8KaU0YWOVJb+fIxEFYEKP8AaJA/OgDYvPH+i2OrfYZPtMhVlV54oS0MZPQM/QV0qOsiK6HKsMgjuK8igNvafDfxhYzsovTd3YhVj8x3E+Vj+len6Irp4d05ZP8AWC0iDZ9dgoAwvFH/ACOnhH/r6n/9Emusrz/V5Nef4ieGBqtvYx2gup/Ja3kZnP7o/eBGBXoFABRRRQAUUUUAFFFFABRRRQAUUUUAFFFFABRRRQAUUUUAFFFFABRRRQAUUUUAFFFFABRRRQAUUUUAFFFFABRRRQAUUUUAFFFFABRRRQAUUUUAFFFFABRRRQAUUUUAFFFFABRRRQAUUUUAFFFFABRRRQAUUUUAFFFFABXJ23/JXr7/ALA8X/o1q6yuTtv+SvX3/YHi/wDRrUAdZRRRQAUUUUAFFFFABRRRQAUUUUAFFFFABRRRQAUUUUAFFFFABRRRQAda5yT4feFJdQlvpNEtjdSyeZJLzlm9TzXR0UAYs/g/w/dalHqFxpUD3cWNkpByMdO9bQGAAOAKKKAOT8Uf8jp4R/6+p/8A0Sa6yuT8Uf8AI6eEf+vqf/0Sa6ygAooooAKKKKACiiigAooooAKKKKACiiigAooooAKKKKACiiigAooooAKKKKACiiigAooooAKKKKACiiigAooooAKKKKACiiigAooooAKKKKACiiigAooooAKKKKACiiigAooooAKKKKACiiigAooooAKKKKACiiigArk7b/kr19/2B4v/AEa1dZXJ23/JXr7/ALA8X/o1qAOsooooAKKKKACiiigAooooAKKKKACiiigAooooAKKKKACiiigAooooAKKKKACiiigDk/FH/I6eEf8Ar6n/APRJrrK5PxR/yOnhH/r6n/8ARJrrKACiiigAooooAKKKKACiiigAooooAKKKKACiiigAooooAKKKKACiiigAooooAKKKKACiiigAooooAKKKKACiiigAooooAKKKKACiiigAooooAKKKKACiiigAooooAKKKKACiiigAooooAKKKKACiiigAooooAKKKKACuTtv+SvX3/YHi/wDRrV1lcnbf8levv+wPF/6NagDrKKKKACiiigAooooAKKKKACiiigAooooAKKKKACiiigAooooAKKKKACiiigAooooA5PxR/wAjp4R/6+p//RJrrK5PxR/yOnhH/r6n/wDRJrrKACiiigAooooAKKKKACiiigAooooAKKKKACiiigAooooAKKKKACiiigAooooAKKKKACiiigAooooAKKKKACiiigAooooAKKKKACiiigAooooAKKKKACiiigAooooAKKKKACiiigAooooAKKKKACiiigAooooAKKKKACuTtv8Akr19/wBgeL/0a1dZXJ23/JXr7/sDxf8Ao1qAOsooooAKKKKACiiigAooooAKKKKACiiigAooooAKKKKACiiigAooooAKKRs7Tt644rhdG1rxHD4t1rS9avLe5S2sBdQeVAE2EsRgnPPSgDu6K888D+ItV8QXXmXfibTpsO4bT4rdRIoB9d2f0r0MnAyaAOT8Uf8AI6eEf+vqf/0Sa6yuG13WtM1Dx94VtrG/t7ieG6n8yOOQMyfuT1A6V3NABRRRQAUUUUAFFFFABRRRQAUUUUAFFFFABRRRQAUUUUAFFFFABRRRQAUUUUAFFFFABRRRQAUUUUAFFFFABRRRQAUUUUAFFFFABRRRQAUUUUAFFFFABRRRQAUUUUAFFFFABRRRQAUUUUAFFFFABRRRQAUUUUAFFFFABXJ23/JXr7/sDxf+jWrrK5O2/wCSvX3/AGB4v/RrUAdZRRRQAUUUUAFFFFABRRRQAUUUUAFFFFABRRRQAUUUUAFFFFABRRRQAhOFJxnA6DvXm1lqOqj4mahqEvhTV1s7ixW2WRo02llYt/e6HNelUUAebXNrda5rmmf2Z4YutFa1uFlmu5YljDKCCV+UnOfevSaKKAON8R2Vrb+OfCctvbQxSPdT7nSMKW/cnqRXZV5z8U/ER8Maz4Uv0sZL9lu5gIInCs37o9zxWZ/wu66/6ErUP/AuL/Gg56uKoUXy1JpPzaR6zRXk3/C7rr/oStQ/8C4v8aP+F3XX/Qlah/4Fxf407My/tDCf8/Y/ej1mivJv+F3XX/Qlah/4Fxf40f8AC7rr/oStQ/8AAuL/ABosw/tDCf8AP2P3o9Zoryb/AIXddf8AQlah/wCBcX+NH/C7rr/oStQ/8C4v8aLMP7Qwn/P2P3o9Zoryb/hd11/0JWof+BcX+NH/AAu66/6ErUP/AALi/wAaLMP7Qwn/AD9j96PWaK8m/wCF3XX/AEJWof8AgXF/jR/wu66/6ErUP/AuL/GizD+0MJ/z9j96PWaK8m/4Xddf9CVqH/gXF/jR/wALuuv+hK1D/wAC4v8AGizD+0MJ/wA/Y/ej1mivE5v2j7a3vJbaXwlqAmhIDr9pj4yMim/8NJ2n/Qpah/4Ex11QwOKqRU4U5NPqkztgueKlHVM9uorxH/hpO0/6FLUP/AmOj/hpO0/6FLUP/AmOr/s7G/8APqX3Mvkl2PbqK8R/4aTtP+hS1D/wJjo/4aTtP+hS1D/wJjo/s7G/8+pfcw5Jdj26ivEf+Gk7T/oUtQ/8CY6P+Gk7T/oUtQ/8CY6P7Oxv/PqX3MOSXY9uorxH/hpO0/6FLUP/AAJjo/4aTtP+hS1D/wACY6P7Oxv/AD6l9zDkl2PbqK8R/wCGk7T/AKFLUP8AwJjo/wCGk7T/AKFLUP8AwJjo/s7G/wDPqX3MOSXY9uorxH/hpO0/6FLUP/AmOj/hpO0/6FLUP/AmOj+zsb/z6l9zDkl2PbqK8R/4aTtP+hS1D/wJjo/4aTtP+hS1D/wJjo/s7G/8+pfcw5Jdj26ivEf+Gk7T/oUtQ/8AAmOj/hpO0/6FLUP/AAJjo/s7G/8APqX3MOSXY9uorxH/AIaTtP8AoUtQ/wDAmOj/AIaTtP8AoUtQ/wDAmOj+zsb/AM+pfcw5Jdj26ivEf+Gk7T/oUtQ/8CY6D+0naDk+E9Qx/wBfMdH9nYz/AJ9S+5hyS7Ht1FZPhXxBF4q8K6frltC8EV9EJVjcglRnGDj6VrVwkBRRRQAUUUUAFFFFABRRRQAUUUUAFFFFABRRRQAUUUUAFFFFABRRRQAUUUUAFFFFABXJ23/JXr7/ALA8X/o1q6yuTtv+SvX3/YHi/wDRrUAdZRRRQAUUUUAFFFFABRRRQAUUUUAFFFFABRRRQAUUUUAFFFFABRRRQAUUUUAFFFFAHk3xu/4/vCP/AF+z/wDoo1x9dh8bv+P7wj/1+z/+ijXH1pHY/PeJv97j/hX5sKKKKo+YCiiigAooooAKKKKACiiigAooooA8z1j/AJG7Vv8Afj/9AFQVPrH/ACN2rf78f/oAqCv1TI/+RdS9H+bP23Kv9wo/4V+QUUUV7B6QUUUUAFFFFABRRRQAUUUUAFFFFABRRRQAUUUUAFFFFABTX+430p1Nf7jfSk9gPqn4O/8AJHvDf/XmP/QjXa1xXwd/5I94b/68x/6Ea7Wvw97nkhRRRSAKKKKACiiigAooooAKKKKACiiigAooooAKKKKACiiigAooooAKKKKACiiigArk7b/kr19/2B4v/RrV1lcnbf8AJXr7/sDxf+jWoA6yiiigAooooAKKKKACiiigAooooAKKKKACiiigAooooAKKKKACiiigAooooAKKKKAPJvjd/wAf3hH/AK/Z/wD0Ua4+uw+N3/H94R/6/Z//AEUa4+tI7H57xN/vcf8ACvzYUUUVR8wFFFFABRRRQAUUUUAFFFFABRRRQB5nrH/I3at/vx/+gCoKn1j/AJG7Vv8Afj/9AFQV+qZH/wAi6l6P82ftuVf7hR/wr8gooor2D0gooooAKKKKACiiigAooooAKKKKACiiigAooooAKKKKACmv9xvpTqa/3G+lJ7AfVPwd/wCSPeG/+vMf+hGu1rivg7/yR7w3/wBeY/8AQjXa1+Hvc8kKKKKQBRRRQAUUUUAFFFFABRRRQAUUUUAFFFFABRRRQAUUUUAFFFFABRRRQAUUUUAFcnbf8levv+wPF/6Nausrk7b/AJK9ff8AYHi/9GtQB1lFFFABRRRQAUUUUAFFFFABRRRQAUUUUAFFFFABRRRQAUUUUAFFFFABRSMQqknoBk1h6P4y0XXtQurLTbl3ntF3zK8TJtXOM/MBkUAbtFYFl420LUNYOmW12zXIJUbomVWI6gMRg/ga36APJvjd/wAf3hH/AK/Z/wD0Ua4+uw+N3/H94R/6/Z//AEUa42Q4jYjritI7H59xN/vkf8K/NjqK5OC4vh4JvrwXlxLcsXKMeSmHxhePStDw/PDKz7dSurqTaN0dwMbfcDApnhzwkoRlK97O3U3KKK5JtWW91OfztTuLOON9kaQjg+u44I60GdGhKte3Q62isLU5J4Ne0lobuURTuyPECNrAKTmt2mROnyRjK+6/WwUUUUGQUUUUAFFFFAHmesf8jdq3+/H/AOgCoKn1j/kbtW/34/8A0AVmak7paZicoxYDK9etfp+U1FSyuE30T/Nn7ZlbtgKT/ur8i5RWdfStA8KNNIkZB3OvLE1Np0ry2u6Rt3JwT1I969KOKjKs6NtV/wAD/M9Hm1sW6Khu5vs9s8np0qrYyCRxm5kdyOUYYH4Vc8RGNVUurDm1saFFUrJpPtV3G8jSBHG3d2yM1dq6VT2sOa1t/wAHYad0FFFFajCiiigAooooAKKKKACiiigAooooAKa/3G+lOpr/AHG+lJ7AfVPwd/5I94b/AOvMf+hGu1rivg7/AMke8N/9eY/9CNdrX4e9zyQooopAFFFFABRRRQAUUUUAFFFFABRRRQAUUUUAFFFFABRRRQAUUUUAFFFFABRRRQAVydt/yV6+/wCwPF/6Nausrk7b/kr19/2B4v8A0a1AHWUUUUAFFFFABRRRQAUUUUAFFFFABRRRQAUUUUAFFFFABRRRQAUUUUAHWvOriPy/iB4mW3Xaf7A+UKO+569EI3KQehGK5a3+G3hu11o6rDbXH2xuGdruQ5HoQWwR7UAce3lf8K58F/Ztv277bZ+Zt+9ncPN/+vXrRzg44NYFl4I0LT9YOp2toy3JJYbpWZVJ6kKTgfgK36APEvi5aazBr3hmTU9Thu7Z7ybyYktvLMf7o9Wyc1gyf6pvpXZfG7/j+8I/9fs//oo1x9aR2Pz7iX/fI/4V+bOd8OXDN4aYWQjnnjlkBjL453ngntUkNpqEmqSaleW8du0cJVI433liM9TUtxrEGmSyj+zpkhU5knSNQg9zzWujiRA6HKsMg0zxqtSUZSmo2Uv6t2/Ar6bJcy2Ecl6u2VhkjGMCsG50W+jW+tLO3he3vGDGVnAKfh3rqKKDCniJU5OUUten4o5zUjHDrWg2vmq0sbuSuecbDzXR0wwxNKJGjQyDo5UZH40+gmrVU4xXZfq3+oUUUUzEKKKKACiiigDzPWP+Ru1b/fj/APQBWVqpAs8ngB1/mK1dY/5G7Vv9+P8A9AFVJ2VISzp5gH8IGc1+m5ZDnymMb2un+bP2vK9cvpf4V+RWnjla4juLYLKApGC2OvvTIo7i2jXAG+ST5gOQoqzaXC3MG9EKAErtIxjFT16UaEKj9rGT11/L/I9GyepDcw/aLdoz3FVYbec3ELzIsawqVG1s5rQorWph4VJqb/qzuvxG4pu5QsWV729ZCGG9eR/u1fpqoqZ2qFz1wKdVUKbpw5W+rf3tsaVkFFFFbDCiiigAooooAKKKKACiiigAooooAKa/3G+lOpr/AHG+lJ7AfVPwd/5I94b/AOvMf+hGu1rivg7/AMke8N/9eY/9CNdrX4e9zyQooopAFFFFABRRRQAUUUUAFFFFABRRRQAUUUUAFFFFABRRRQAUUUUAFFFFABRRRQAVydt/yV6+/wCwPF/6Nausrk7b/kr19/2B4v8A0a1AHWUUUUAFFFFABRRRQAUUUUAFFFFABRRRQAUUUUAFFFFABRRRQAUUUUAFFFFABRRRQB5N8bv+P7wj/wBfs/8A6KNcfXX/ABy84XHhR4LW4uil5NmO2iMjn90egFcJ9rv/APoXNe/8Fz1cXofEcQYPEV8VGVKDa5ei82ZOtahHf3R0aCaOPcP9IkZgNq+g9+lb8KLHCiR4KqMDFZMlik0zSy+DtWeRjlnbSmJP6VDeeKrPSbhbO+07UrSbYHEMlmynb0zg9qq549XL8VKEYU6MtPLqb9Fc1/wnel/88L//AMBWo/4TvS/+eF//AOArUzn/ALKx/wDz5l9zOlormv8AhO9L/wCeF/8A+ArUf8J3pf8Azwv/APwFagP7Kx//AD5l9zOlormv+E70v/nhf/8AgK1H/Cd6X/zwv/8AwFagP7Kx/wDz5l9zOlormv8AhO9L/wCeF/8A+ArUf8J3pf8Azwv/APwFagP7Kx//AD5l9zOlormv+E70v/nhf/8AgK1H/Cd6X/zwv/8AwFagP7Kx/wDz5l9zOY1j/kbtW/34/wD0AVWchVJYgD1NR6jqiXPiC/u4ra78qdlKZhOeFAqB71JFKvaXLKeoMBr9GynMMLSwEITqJSSejfmz9cy1OngqUJ6NRX5CaW6tDIFYE+a3APvV6s1bm1tVZ0sp4gBlmEBFW1nldQy2F6VYZBFu3IrsoZngqNKMKlaN15nfBNqy1J6Kh82f/oH33/gO1Hmz/wDQPvv/AAHatv7Yy7/n/H70ackuz+4moqHzZ/8AoH33/gO1Hmz/APQPvv8AwHaj+2Mu/wCf8fvQckuz+4moqHzZ/wDoH33/AIDtR5s//QPvv/AdqP7Yy7/n/H70HJLs/uJqKh82f/oH33/gO1Hmz/8AQPvv/AdqP7Yy7/n/AB+9ByS7P7iaiofNn/6B99/4DtR5s/8A0D77/wAB2o/tjLv+f8fvQckuz+4moqHzZ/8AoH33/gO1Hmz/APQPvv8AwHaj+2Mu/wCf8fvQckuz+4moqHzZ/wDoH33/AIDtR5s//QPvv/AdqP7Yy7/n/H70HJLs/uJqKh82f/oH33/gO1Hmz/8AQPvv/AdqP7Yy7/n/AB+9ByS7P7iamv8Acb6VH5s//QPvv/AdqR5Z9jf8S+96f8+7UnnGXW/jx+9ByS7P7j6u+Dv/ACR7w3/15j/0I12tcV8Hf+SPeG/+vMf+hGu1r8je544UUUUgCiiigAooooAKKKKACiiigAooooAKKKKACiiigAooooAKKKKACiiigAooooAK5O2/5K9ff9geL/0a1dZXJ23/ACV6+/7A8X/o1qAOsooooAKKKKACiiigAooooAKKKKACiiigAooooAKKKKACiiigAooooAKKKKACiiigDk/FH/I6eEf+vqf/ANEmusrzf4q3+p2GueEW0NrZLxrycI10hZB+5OcgEGqH/CRfEf8A5+/D3/gNL/8AFVjUr06btN2MKmIpUnyzdmer183/ABx/5KxH/wBgqP8A9GNXc/8ACRfEf/n78Pf+A0v/AMVXk3j+91q++IPmeI5LOS5GnoFNnGyLt3t1DE81VHEUqk1GL1NMLiaNSqowldmJRRRXee4FFFFABRRRQAUUUUAFFFFABRRRQBU1X/kEXX/XJv5V2Gn/APIMtf8Arin/AKCK4/Vf+QRdf9cm/lXYaf8A8gy1/wCuKf8AoIrxM22h8z3Ml/iT9F+pYooorwT6UKKKKACiiigAooooAKKKKACiiigAooooAKKKKACmy/6l/wDdNOpsv+pf/dNMT2PbPhB/ySHw7/16f+zGu0ri/hB/ySHw7/16f+zGu0r6xbH5O9wooopiCiiigAooooAKKKKACiiigAooooAKKKKACiiigAooooAKKKKACiiigAooooAK5O2/5K9ff9geL/0a1dZXJ23/ACV6+/7A8X/o1qAOsooooAKKKKACiiigAooooAKKKKACiiigAooooAKKKKACiiigAooooAKKKKACiiigDzb4p/8AIy+DP+v2f/0SaSl+Kf8AyMvgz/r9n/8ARJpK8PMP4q9D53NP4y9P8wrx74jf8lFH/YOT/wBDavYa8e+I3/JRR/2Dk/8AQ2oy7/eEVk/+9x+Zz9FFFfTn3IUUUUAFFFFABRRRQAUUUUAFFFFAFTVf+QRdf9cm/lXYaf8A8gy1/wCuKf8AoIrj9V/5BF1/1yb+Vdhp/wDyDLX/AK4p/wCgivEzbaHzPcyX+JP0X6liiiivBPpQooooAKKKKACiiigAooooAKKKKACiiigAooooAKbL/qX/AN006my/6l/900xPY9s+EH/JIfDv/Xp/7Ma7SuL+EH/JIfDv/Xp/7Ma7SvrFsfk73CiiimIKKKKACiiigAooooAKKKKACiiigAooooAKKKKACiiigAooooAKKKKACiiigArk7b/kr19/2B4v/RrV1lcnbf8AJXr7/sDxf+jWoA6yiiigAooooAKKKKACiiigAooooAKKKKACiiigAooooAKKKKACiiigAooooA8t8R6tLH8SNQtNT8QaxpOnpbwG3+xxkxliDuJO0gdq9MtHR7KFo5jMmwYlJyXGOprmPFK+Jb6K80zTdGtJ7S5iMf2qW6ClcjB+THOPrW5oOmNpOg2tjI/mNFGAx9+9AHAfE29tbjxV4Oit7mGWRL2feiSBiv7k9QOlTVT+I+jabp/i/wAI3NjY29vPNeTiWSOMKz/uT1I61crw8w/ir0Pnc0/jL0/zCvHviN/yUUf9g5P/AENq9hrx74jf8lFH/YOT/wBDajLv94RWT/73H5nP0UUV9OfchRRRQAUUUUAFFFFABRRRQAUUUUAVNV/5BF1/1yb+Vdhp/wDyDLX/AK4p/wCgiuP1X/kEXX/XJv5V2Gn/APIMtf8Arin/AKCK8TNtofM9zJf4k/RfqWKKKK8E+lCiiigAooooAKKKKACiiigAooooAKKKKACiiigApsv+pf8A3TTqbL/qX/3TTE9j2z4Qf8kh8O/9en/sxrtK4v4Qf8kh8O/9en/sxrtK+sWx+TvcKKKKYgooooAKKKKACiiigAooooAKKKKACiiigAooooAKKKKACiiigAooooAKKKKACuTtv+SvX3/YHi/9GtXWVydt/wAlevv+wPF/6NagDrKKKKACiiigAooooAKKKKACiiigAooooAKKKKACiiigAooooAKKKKACiiigAooooA82+Kf/ACMvgz/r9n/9Emkpfin/AMjL4M/6/Z//AESaSvDzD+KvQ+dzT+MvT/MK8e+I3/JRR/2Dk/8AQ2r2GvHviN/yUUf9g5P/AENqMu/3hFZP/vcfmc/RRRX059yFFFFABRRRQAUUUUAFFFFABRRRQBU1X/kEXX/XJv5V2Gn/APIMtf8Arin/AKCK4/Vf+QRdf9cm/lXYaf8A8gy1/wCuKf8AoIrxM22h8z3Ml/iT9F+pYooorwT6UKKKKACiiigAooooAKKKKACiiigAooooAKKKKACmy/6l/wDdNOpsv+pf/dNMT2PbPhB/ySHw7/16f+zGu0ri/hB/ySHw7/16f+zGu0r6xbH5O9wooopiCiiigAooooAKKKKACiiigAooooAKKKKACiiigAooooAKKKKACiiigAooooAK5O2/5K9ff9geL/0a1dZXJ23/ACV6+/7A8X/o1qAOsooooAKKKKACiiigAooooAKKKKACiiigAooooAKKKKACiiigAooooAKKKKACiiigDzb4p/8AIy+DP+v2f/0SaazBVLHoBmnfFP8A5GXwZ/1+z/8Aok1FN/qH/wB014eYfxV6Hzuafxl6GVYeJ7HUdMub+2juvItmKsWhILkHB2jvzXknivXrTX/Hkk9isyiKzWN1mjKMGDk9D9a9P8Dbf+EPj342+dNnP/XRq8b1Rl/4WVrhBG3PUfWtsBGKxDt0OnKoRWLduhJPMlvA8smdqDJwM1Qk161hjV5Y7hVY4BMR5qXUZEl0mdo2DLsPIqlfRi8FjaB9hCrIW9ABj+te+2+h9dKTWxdj1WF5o4jHMjSfd3xkA1dZgqkscAdawHumGoW0dxIHEMrASevy1tTuv2OR8b12E4HemmEZXuQR6pbySrGBINxwrMmAT7GpYr2KW7ktlDiSMbjuXAI9qxoo2jNlI03mo0vyxY+515rRj/5GKX/r2X/0I0k2JSbNCiiiqNQooooAKKKKAKmq/wDIIuv+uTfyrsNP/wCQZa/9cU/9BFcfqv8AyCLr/rk38q7DT/8AkGWv/XFP/QRXiZttD5nuZL/En6L9Rl7qcFjNBFMsjPO21BGm7mob7WoNPZxPDclUXczpCSoH1qHU/wDkP6V/vv8A+gmjxBIXt4bKP79zIFI/2M/N/OvIjGN436nsVKtRKbT2emnkv8zTtrhLq3SaLcEcZG4YNR3l7DYQebOWxnACjJJ9hTleG28m2LhW2gIvriszxGA8FvFnY7y4WX+4fWojFOVuhtUqShScluvzLdvq9vcxytGkwaEZeNoyHH4VNYX0Oo2a3Ntu8tiQNy4OQcHisrRkeDW76GWb7TJsQmcgAkc4BA44qbwv/wAgNf8ArtL/AOhmrnCKTa8vxMaNacpRUv734NI16KKKwO0KKKKACiiigAooooAKKKKACmy/6l/9006my/6l/wDdNMT2PbPhB/ySHw7/ANen/sxrtK4v4Qf8kh8O/wDXp/7Ma7SvrFsfk73CiiimIKKKKACiiigAooooAKKKKACiiigAooooAKKKKACiiigAooooAKKKKACiiigArk7b/kr19/2B4v8A0a1dZXJ23/JXr7/sDxf+jWoA6yiiigAooooAKKKKACiiigAooooAKKKKACiiigAooooAKKKKACiiigAooooAKKKKAPNvin/yMvgz/r9n/wDRJpki742XpkYp/wAU/wDkZfBn/X7P/wCiTSV4eYfxV6Hzuafxl6GB4f8AD8+n6LPperSW91bvI5QRqR8rMWIbPua8t8baFpuk+O2t9MtEto5LBXYR55YswJrr7+VI/F2qNrU+sQ2qyR+Q9u7rCq7RnJHA5rnfiCyv8QEaNtynTY8HOc/O1bYLmWITb3OnLFJYuLb3/wAjl5bIHTWtYjtyu0E01NNikhjF7HHLKq7dwBFXaxZz9n1GJIXuN7SfMZCdhHtX0Dsj6+VkTXOjiaaBYykVvE24qoOSa0woC7QOMYxRS07FKKWxWjsLWKXzI4VV/WmQ2sq6nLdSuhVkCKqjoAc81coosHKgooooGFFFFABRRRQBU1X/AJBF1/1yb+Vdhp//ACDLX/rin/oIrj9V/wCQRdf9cm/lXYaf/wAgy1/64p/6CK8TNtofM9zJf4k/RfqVtRsLi5vbO5tZY0a3ckiQE5BGO1XXtoZLiOd41MsYIRj1GetU9Xu3hgEFtzcTZVPb1P5VD4baU6URPK0rJK673OScGvHtLk5j21KCrOCW+r9VYvvZxyX0d0+S8alVHbr1p1xaw3cJiuY1kQ9VNS0VldnRyR1VtypFYRWVu6abFHC7DjIJGfemaPYPpumpbyusjhmYsowOWJ/rV6inzNqzJVKCkpJbaBRRRUmgUUUUAFFFFABRRRQAUUUUAFNl/wBS/wDumnU2X/Uv/ummJ7Htnwg/5JD4d/69P/ZjXaVxfwg/5JD4d/69P/ZjXaV9Ytj8ne4UUUUxBRRRQAUUUUAFFFFABRRRQAUUUUAFFFFABRRRQAUUUUAFFFFABRRRQAUUUUAFcnbf8levv+wPF/6Nausrk7b/AJK9ff8AYHi/9GtQB1lFFFABRRRQAUUUUAFFFFABRRRQAUUUUAFFFFABRRRQAUUUUAFFFFABRRRQBkar4q0PRLqO21XUobWaX7iOTk1qxyLLGskbBkYAqR3FecmG2u/EHjM6mFZhaIp3/wAKYfH6V0/gZ5pPBtmZidwDBd390Ehf0xQBy/xT/wCRl8Gf9fs//ok0lUvHej+KdS8X+GY3vtLVftcxtsQv8v7o53c88elaH/CGeMf+gro//gPJ/jXmYvDVKs1KJ4+OwlWvUUodjmNcs9f1NLixhjsFspgF81nbzAPpjFedeObUWXjeG2Viwj0yNcnv87V7Z/whnjH/AKCuj/8AgPJ/jXNa18FPEOu61/ad1rWnLN5IhwkLgYBJ9feqwlCpSqJy2NcBh6tCupTSsjx85wcdaz5be8upEWcRJGj7soSSa9k/4UFrf/QcsP8Avy9H/Cgtb/6Dlh/35evY54n0br02eVjgUtep/wDCgtb/AOg5Yf8Afl6P+FBa3/0HLD/vy9P2kR/WKZ5ZRXqf/Cgtb/6Dlh/35ej/AIUFrf8A0HLD/vy9HtIh9YpnllFep/8ACgtb/wCg5Yf9+Xo/4UFrf/QcsP8Avy9HtIh9YpnllFep/wDCgtb/AOg5Yf8Afl6P+FBa3/0HLD/vy9HtIh9YpnllFd/pvwc1jUdY1WwXV7JG02VI2YxPh9yBuPzrU/4UFrf/AEHLD/vy9HtIh9YpnkOq/wDIIuv+uTfyrsNP/wCQZa/9cU/9BFdVcfs96zcW8kL67YhZFKnEL960ofgv4iggjiXWtNKxqFGYX6AY9a8zH0pV+Xk6HqZbmNDDzk6l9bdDz3UNHtNRYPcoxdRhSrlcflUWhaQNItZI85Z5C33ieM8da9K/4U54j/6DWm/9+H/xo/4U54j/AOg1pv8A34f/ABrzfqeI5eXp6np/2vl/tPaa39DiKK7f/hTniP8A6DWm/wDfh/8AGj/hTniP/oNab/34f/Gp+oVjb+3cH3f3HEUV2/8AwpzxH/0GtN/78P8A40f8Kc8R/wDQa03/AL8P/jR9QrB/buD7v7jiKK7f/hTniP8A6DWm/wDfh/8AGj/hTniP/oNab/34f/Gj6hWD+3cH3f3HEUV2/wDwpzxH/wBBrTf+/D/41De/CXxFZ2FxdNrGmsIYmkKiF+cDOOvtR9QrB/buD7v7jjqK6rRvhd4h1jQ7PUU1bTo1uoVlCGFyV3DOOtXf+FOeI/8AoNab/wB+H/xo+oVg/t3B939xxFFdv/wpzxH/ANBrTf8Avw/+NH/CnPEf/Qa03/vw/wDjR9QrB/buD7v7jiKK7f8A4U54j/6DWm/9+H/xo/4U54j/AOg1pv8A34f/ABo+oVg/t3B939xxFNl/1L/7pruf+FOeI/8AoNab/wB+H/xpG+DXiNlKnWtNwRj/AFD/AONH1CsJ57g7bv7jtPhB/wAkh8O/9en/ALMa7SuA8N+GPGvhjw5ZaNY6por29nH5cbSW8hYjOecH3rT+zePv+gjoP/gNL/8AFV758G9zrKK5P7N4+/6COg/+A0v/AMVR9m8ff9BHQf8AwGl/+KoEdZRXJ/ZvH3/QR0H/AMBpf/iqy5NR8dx+KoNEN3oZea0a5En2eTACsFx973oA9Aork/s3j7/oI6D/AOA0v/xVH2bx9/0EdB/8Bpf/AIqgDrKK5P7N4+/6COg/+A0v/wAVR9m8ff8AQR0H/wABpf8A4qgDrKK5P7N4+/6COg/+A0v/AMVR9m8ff9BHQf8AwGl/+KoA6yiuT+zePv8AoI6D/wCA0v8A8VR9m8ff9BHQf/AaX/4qgDrKK5P7N4+/6COg/wDgNL/8VR9m8ff9BHQf/AaX/wCKoA6yiuT+zePv+gjoP/gNL/8AFUfZvH3/AEEdB/8AAaX/AOKoA6yiuT+zePv+gjoP/gNL/wDFVl6DqPjvXLa6mju9DiFvdy2xDW8hyUbGfvd6APQKK5P7N4+/6COg/wDgNL/8VR9m8ff9BHQf/AaX/wCKoA6yiuT+zePv+gjoP/gNL/8AFUfZvH3/AEEdB/8AAaX/AOKoA6yiuT+zePv+gjoP/gNL/wDFUfZvH3/QR0H/AMBpf/iqAOsrk7b/AJK9ff8AYHi/9GtR9m8ff9BHQf8AwGl/+Kp2g6Drtv4su9a8QXljO01mlsiWkTJjaxbJ3E+tAHVUUUUAFFFFABRRRQAUUUUAFFFFABRRRQAUUUUAFFFFABRRRQAUUUUAFFFFAHOa34H0nXtQa8u2uopXQJL9nnMYmUdFcD7w9jW9bW8Vpax28ChI41Cqo7AVLSMSEJHXFAGNqF/4fOuWcWoX9qmoW7FoInlAcFhg4HXpW1Xkv2K1vfDXifULxVa9XUtwlb78ZGwhQeoGe3vXpehTS3Hh+xmuP9bJAjPn1IoAv0UUUAFFFFABRRRQAUUUUAFFFFABUdxcRWtvJPcyLFDGpZ3c4CgdSTUlZXifTptX8Kanp1sVE11ayRIW6AlSBmgCDRdT8O3upXb6JqNpdXVyRLOIJlYnaNoOB7YrcrgPC91d+HtXsdB1vSNOtp5bYCG5sRnftwMMSAcnrXf0AFFFFABRRRQAUUUUAFFFFABRRRQBHcXENpbvPdSpFDGMu7nAUepNUrfVdJ1rS55bO+t7uz2skskUgZQMcgkexq5dW8V3ayQXCCSKRcMp6EV5BKTp3gnxZHYKIUGvRx7YxgBGaIMOPYmgD0/QdR0W5s1tNBvba5htUEe2CQPsA4AOPpWrXBGytdG+KOgW+kRpDBc2Nx56xjAbYq7CfzNd7QAUUUUAFFFFABRRRQAUUUUAFFFFAFHU9b0vRkR9Wv7eyWQ4UzyBN30zVPUdQ8P6dqFvqup39rbTPCY4ZZZQu5Cc8Z69KzPiXYWt14E1Sa4gSSSG1kMZZc7Tt6isnVvD2qanb+G9Q0q2sLr7HZxl4r4na3yj0BoA7yyvrXUbZbiwuI7iFvuyRMGU/iKnrn/B+tR6xpUoWzjsprSYwTwRLhVcAE49uRXQUAFFFFABRRRQAUUUUAFFFFABRRRQBm3/AIj0bS7lbfUdUtLWZvuxyyhWP4Gq4v8Aw/4btx5t9a2cd3K06mWUKJGY5JGetZvjeTSLHTZWubKK61C8QwW6FAzsx44z0xnNcr4R0BX8TX+k+JFW4NjpdqqLL8wQsjb8Z+g5oA9UjkSWNZImDowyrA5BFOrkvhlPNceBoGuGLMtxOik/3VlYL+gFdbQAUUUUAFFFFABRRRQAUUUUAFFFFABRRRQAUUUUAFFFFABRRRQAUUUUAFFFFABRRRQAUUUUAFFFFABRRRQByV/8PbC+1Sa6N7eQwXMwnuLONwIpnBB3MMZzwO/ausRFjQKgwqjAA7UtFABRRRQAUUUUAFFFFABRRRQAUUUUAFV761N5ZS26zyW5kUgSxHDJ7jPerFFAHN6T4Nh07Vl1K81K+1S6RCkUl46sYxnPGAK6SiigAooooAKKKKACiiigAooooAKKKKAIL22a7spbdLiW2aRdolhIDJ7jNclpfw1tdOW/jm1nU76G/cyTRXMilS/9/hRzwPyrtKKAOc0DwZbaFfG8a+u9QuAgjjku2DGJfRcAcV0dFFABRRRQAUUUUAFFFFABRRRQAUUUUAYPivwuPFemmxl1O9sYXUrILR1XzAexyDVFPA88WnW9pF4p1pFgTYHEqbmXsD8tdZRQBmaDoNr4e0/7LZl33NvklkOWkb+8fetOiigAooooAKKKKACiiigAooooAKKKKAOT1vwFFrXiSPWv7a1KzuY4/LRbeRQqjnkAqeeaNQ8BQagYpG1fUYbpY/KluY5FEk64xhjjn/69dZRQBV0zTrfSdOisrNdsUQwPf1P1NWqKKACiiigAooooAKKKKACiiigAooooAKKKKACiiigAooooAKKKKACiiigAooooAKKKKACkd1jjZ3IVVGST2FLXF/FjX4NB8AXX2i5+zf2g62QlwSYxIcO2BycJuPHpSk7LQaV2dB4f8S6T4p09r3Qrv7Vbo/lsxjeMhsA9GAPRgc45BrUryjwN4y8M3fxQvNO8KX63FhqOnxSBPJkj8ueEbCAHUdY9p4/uUuj6Hr3jGbxH5/i/VtPtbPWbqG0isZtjBg3G9zklBkAIMAc1T8u1/udv+GEtte9vvVz1aivKPGuueI9H03wx4f1CXVZ7y8gkbUrnw5b+bcyeWFH7vIG3JbJbGRjpVv4Z6rrB1u/065g8VHR0tlmguPE9rsmSTdhk8zo4IIIzyMGhat/1sJ6JM9Mor598R+KriKO98QeH9Z8eX8sUheG8S1A0ggP90rgfKBxmvf4HMtvHIeCyhjj3FJaq43o7D6Kw/GmtT+HfBOrataIrz2lszxB+m7oCfYE5rhNb0fXPBmgQ+LIvGesaneRyQNdWt1Kr2tyruqsqRgfJ97gg9qFq7en4g9F/XQ9D8ReIbDwxpDajqZk8vesaRwxl5JXY4VEUdWJ7VW8MeKP+EmhuJP7D1nSPIYLt1a08hpMjqoycgYrhviVofiefXtFuLfxd5Fnc61AlnaHTIm+xybGxJvJy+CG+U8fN7V3vhrTNb0uwli8R+IP7duGk3JP9iS22LgfLtQkHnJz70R1Tb/rb/MJaNJf1v/kbNchrvxU8G+GdYm0rW9Y+zXsIUyRfZZn27gGHKoR0I7119eWf8Vr/AMLO8Xf8IZ/YPleZaef/AGt527d5Axt8vt1zmjqM7a58W2a+EU8RaXaX+s2kqq8UWnWxeaVWOMhGweOpzjgVL4X8S23ivQ11Oztru0QyyRNDeRhJUZGKsGUE45B71f077d/Zlt/a/wBn+3eWv2j7Lu8rfj5tu7nbnpnmuY+Gpx4bv/8AsMX/AP6UPRopNf1uidbJ/wBbM7CivKNJ0nW/GvhqTxfJ4z1fTLuUzSWlrZzKtrbqjMFWSPH7zG3kk1Kmvaz41tPCGlrqc2i/2xpsl9fXNkQkz7Ao2Rkg7Mlt2RzgUa7df+H/AMmN6P8Ar0/U9SorgfDSal4a+IFx4Wn1u+1qwl0z7fDLqDiSeBhJsKlwBuBzkZ9Pz5vwt4d8V+K/h7Z6yvjbU4NSVHNhEk22HKuwHnkhmlyRznoOAKOl+n/Dr9A8v67nsVNlk8qF5NjPsUttQZZsdgPWvPdestd1v4iWejReIbvSbdtF869+wNhnYS4Plk8Icn72M4GO9X/Ab31hrXiLw5e6rc6vDpU0Jt7q8ffMFkj3FHbHzEEdfejdff8Ag7Bez+78rl7wr45tvFV9e2aaPrGlXNkkckkWq2ogYq+7aQNxP8Jrp65DSv8AkrviL/sG2X/oU1c98RtUgl8RJp0eq+MXmht1kfT/AApCN8eScSSPjoRgBc9s96G9h21fl/wP8z1CivHLfxNrt38CtVu1v76LUbPURawXN0vl3KqLiMKJQv8AFhsMO/IOa2k0nWvCfjbw5LP4r1TVv7Xnlt7+C7cGAkQs4aKMDEeCvQZp21/rtf8AUm+l/X8D0miiuM+Jmt/2HoVrP/wlv/CLb7kJ9q/s37b5vysdmzBx0zn2x3qW7FLU7OsRvGXh5fE0Hh4arbvq0+4LaxEuwKqWIbaCFOAT8xFcJ8PPFv8AbPitbT/hZv8AwkuYXb7B/YH2TOMfN5mB09O9XNc0bTdF+K3gWPSbGC0WafUZZfKQL5jmHJYnufrVJaq/US1T8v8AK522v+JdH8Lad9u1+/isrfdtDSZJY+iqMlj7AVX8N+NPD3i+CaXw7qkV4sGPNUKyMmehKsAQOOuMVzXxNMx1Lw4mg7m8TfaZG01GRWh27f3pl3dFCnqPmzjFQeBpr7/hYWtR+MoI4fE7WkZU2oH2WS0DEAx/xZ3E5389MelKOv8AX9X/AOH7BLRf13N61+Jvg298QDRbXxBay3zPsVF3bXb+6smNhPsDXVV5/wCKra08WXlp4R0O3iKWN3Fc311EgEdgqNuCKR/y1bGMDoCSfeb4jWuv3Mun/wBny6yujqsn24aBKkd5u42EbuSv3sheee9K+if9eofasd1RXncfidNF+Emralo2r3msT6cHjWTVYytxBJkAJKCFJKls8jkfnWXq2g6p4W1Hwzfv4z17ULnUNXt7e6gnuwLeRWBZtsQA2jKjjPQ1VveS9PxF9m/r+B6xRRXKfEy9udP+H99c2VzLazJLbgSwyFGUGdAeRzyCR9DS6pDOrorlfFV9Pb+LfCFvBdSRLc38qyxJIVEqC3kOGA+8AcHnviuYh0HW/F3ifxVHL4v1jTdPstQ8u2g0+fy2V/JjPLkE7OfuDAySaV/6+7/MNv69f8j1BiVUkAsQMgDvWR4W1m91/QY7/UtGuNGuGd1NpcnLqFYgHoOoGen59awPDUN544+Eul/2nrGoWd3cRAy3unTeRMSjkZ3YOM7eeOam+GxubjwH5N7qF5dyJdXduLq4mLzFVmdVJc9wAKpqza7B0TOmh1Wyn1a50yGcNeWsaSTRAHKK+dpz052mrdeM6X8OvP8AiVr+n/8ACY+LI/s1pav9pj1TE0u7fw7beQMcDtk12PjfTtfTw3ptnoF1qktvBIqag9lOi38sIQjcjvxu3YJ6E9qm+l/63D7Vv62udrRXHfDu6tWsL2yttb1nUZbaVfNg1xCLu0LLkKxKgkHqDyOuDXY1TVhIKKKKQwooooAKKKKACiiigAooooAKKKKACiiigAooooAKKKKACiiigAooooAKKKKACiiigAooooAKKKKACiiigAooooAKKKKACiiigAooooAKKKKACsy/0G11LXNM1O5kmMmmNI8EQYeWWddu5hjJIGccjqa06iurmGys5rq5fZDBG0kjYJ2qBknA56Ci9tQ30M/V/D9rrOoaXezyTRXGl3P2iB4WAySpVlbIOVIPIGD70uh6Ba6AL8Wckz/b72W9l81gcPIQSBgD5eOM5PvVLwv478OeM3uV8Naj9tNqFMw8iSPbuzj76jPQ9K6Gnqv6/rsG/wDX9dzE8TeFNP8AFVrBHfvc289s5ktruzmMU0DEYJVh0yO3Iqv4Z8HDw29yzeINd1gXChSmrXvnqmM/dG0YznmujopBueeSfBfQJbOewfVdf/s2QHytP/tFvs9uSc5RMY4PI3bh7V6DGgiiSNc4VQoz7U6ijpYCG8s7fULGezvYlmt7iMxyxuMh1IwQa43TfhRomn39tNLqOtahbWbiS00++v2ltrdl+6VTHbtkmu4ooWjuG6sZusaFba2+nNdPKh0+8S9i8sgbnUEANkHj5j0wfetKiigPMKzbDQrbTtb1TVIXlafVGiaZXIKqY02DaMZHHXJNWbTUbK/edLG8t7lraQxTrDKrmJx1VsHg+x5qzQBleItC/wCEh0v7F/ampaX+8D/aNMuPJl47bsHg56Vh+FPhxbeEdRN1Z+IvEN4h3lrW9vhJCzOcs5QKMtnJz6k12NV7HULLU7cz6bdwXcIYoZLeVZF3DgjIOMj0oWj0B6rU428+Euh3d9cSx6hrVnZXchludLtL9o7Sdm+9uQDv3wRWvr/gbR9f0+xtXFxp76cMWNzp8phmtRjbhGHQYAGORxXR0UdLB1uc94Y8F6d4Wa5mt572/vrsAXF/qFwZp5QOgLHsPQAVd8OaBa+GPD9to9hJNJb2wYI07AucsWOSAB1PpWpRTuB574o8IXHib4m20n9oa3pNtDpDD7ZpUxg3P53+rL7SOhzt9s10mk+D9O0Pw/d6Vpkt3CbwOZ73zy1y8jDBkMh53+h7Y6VvUUlpG39b3C/vX/rax5/ZfCS2sdYXU08YeLpLnchkMmpg+cqHKo/yZZeTxnufWtTXvh3p2u68dXXU9Y0q7kjWK4Ol3pgFyq9A+Ac4z2xXWVXvtQstMtTc6ldwWcAYKZbiVY1BJwBknGSaOwHN2/w50a08I3fhy2lvEsbq6+1MTMGkVt6vgMwPGUHXJ681t6lodtqmpaXe3DyrJpk7TwhCArMyMhDZByMMemOa0aKd2LQKKr3Wo2VjJAl7eW9s9zIIoFmlVDK56KuTyfYVYpDCvP8AUvhFaaprX9qXHi3xWtykskkBj1IAW2/7yx5QlBjjAPTivQKKOtwOY1bwHp2taRp1peX2pi60xNttqkV2Uu1OAGYyAclgOcjml8PeBdO8OtdTx3upX9/dReTJqGoXRmuNg6KGPAAJzwK6aijv5gecWXwZs9NgMGneM/GNpEWLmODVAilick4CdSe9dF4h8E2/iFraQ6xrWmXNvH5QudNvjDI6+jcEHnnpXS0UAc/p/gnR9P8ADl5orJPeW+objeSXc7Sy3LMoUs7nnOAOmMY4ritW+G8OhXnhy506TWdanh1m3Xzb6d7k2duMlggAwiZC5OPTmvVaKadpKXp+AdGvX8QqhrejWXiHRLrStUjMtpdJskUHB9QQexBAP4VfopPUadndHFaT8LdI0rV7HVX1HWNR1CxkLQ3OoXnnMF2Mvl8jAT5icAA5A57V0emaHbaTd6ncW7ys+p3P2mYSEEK2xUwuAMDCDrnvWlVe61GysZIEvby3tnuZBFAs0qoZXPRVyeT7CjcRzz+A7YeDbLw5Y61rOm29m+5LmxuhFO3LHazBcEfN0x2FQeE/h1beEL43Fl4h8QXkZVwbS+vRJBudtzPsCj5s5Ofc+tdhRR1uD1Vjk/Efw80/xDrI1aPVNY0e/wDKEMlxpN4YGlQHIVuDnGata14Nt9b0qxtJdV1i1msU2RX9pemK4PABLMBhicAnI61tS6jZQ38NjNeW8d3cBmht3lUSSAdSq5ycd8VYo6WDrcwvDPhGx8LpcNbXF9fXd0V+0XuoXJnmm2ghQWPYZOAAOtbtFFABRUN5e2unWcl3qFzDa20QzJNPIERB6ljwKkjkSWNZImV0cBlZTkMD0INADqKKr3uoWWmwpLqN3BaRu4jV55VQMx6KCTyT6UAWKKgvr2303T7i9vZPLt7aJpZX2k7UUZJwOTwO1Yvhfx34c8Zvcr4a1H7abUKZh5Eke3dnH31Geh6UbhsrnQ0UUUAFFFFABRRRQAUUUUAFFFFABRRRQAUUUUAFFFFABRRRQAUUUUAFFFFABRRRQAUUUUAFFFFABRRRQAUUUUAFFFFABRRRQAVleKP+RQ1j/rxm/wDRZrVrK8Uf8ihrH/XjN/6LNZ1f4cvQun8a9SPwf/yI+h/9g+D/ANFrXjFxo/g228Q6/ceP/BPiCQvq1zL/AGstvcLarCX+UlkccdeQp61614B1rS9T8H6Xb6bqVneTWthAs8dvOsjRHYBhgDlTkHr6GsnWdH+IXiB9Q0q5v/D1hol3vi862hmkuvJbIxhiE3FeCe3atqn8Rtef5mVP+Gk/L8jtbKS3m0+3ksXV7Z4laFlOQyEfKQfpU9c5rNxY+DfATQxapb6SlpZ/ZrO4uyCFdYyE4P3j8ucDrjpTPh1qur638P8AStR8RoF1C4iLSHYE3jcdrbRwMrg8etDs27dP1uNaJXOmri/iTpGjX+kwXPiHRtZ123gfYNP0ouxYt/GyIy5xt654z712lc74n/4TTzrf/hDP7B8raftH9q+duzkY2+X265zUMpaGF8IpID4d1CKzuJxbx38gh066d2m05MDEL7+QeCccjngnrXf1zfhXw5d6NNqWqa3exXerapIkl08EZjhQIu1UQEk4A7k5NYnhbxXqOu/FHXrO01G21Xw5b20bwTW6LtglOAY94++T8xPJ7dOlVu0vL8kTsm/P82d/RRRSGYHhrwunhy81udLkT/2tqD3pURbPL3ADb1OehOeOvSue8G3cPhW88WaDeN5VrpM7ajbk8AW0wMnHsrBxXoFcF488Cal4l1q1u9Hu7e1intzYaqJSwaW1MiuQmAfm4Yc4+9S12Xa3+X5Iej373/z/AAbL/wANbKaLwiup3yFb3W531K4B6gynKr+CbR+FaHg7wwvhHQm01Ln7TuuZrjzBHs++5bGMnpnH4VuIixRrHGoVFAVQOgAp1U7XuvT5f0kSr219fn/TCiuA17xZqEfxX8PaH4f1K1uoJPNXVbBFV3hUAESOwyU68Dj8c8d/SWquN6OxFd3UFjZzXV5KsMECGSSRzgIoGST+FeR6zBd614k8KeLdTEsC3Gtww6ZZuSPItirney/35CAx9AFHrXq+qaZaazpVzpupRedaXUZjmj3FdynqMggj8DXm2s/AbwnPNpp0XSIbeOO8R70S3lwfNgwdyL8x5J2+nTrRHSafmvz1/r1CWsGvJ/l/X4HqdFcP4/1eHwN8N3t9C1O20i7t7dYtMjlxI0gTaNiK2SxxgZ5xkE11Gg3F9deHdOuNWiEN9LbRvcRgY2SFQWGO3Oae97dA2tfqaFYHjTwuvjDw0+kNdfZQ80Uvm+VvxscNjGR1xjOe9b9FLrcOljjfijZSv4P/ALWsk3XmhXEepQAd/LOXH4oWqr4ruofFV54V0SzbzLXU5l1K4xyDbQgOAfZnMYruZoknheGZQ8cilWU9CCMEVw3w+8Dan4XvbmfW7y3u/IgWw00wliY7VXZgGyB8x3LnGR8oojvr3v8A19y/EHt+H9fj+Bu+JfC6+I7zQ7hrnyP7J1BL3Hl7vN2gjZnI29c556dK36Kq6nqFrpemzXmoXkFjBGvzXFw4VEJ4GSSO5HHeleyC12WqK4r4Va5rfiHwYb7xDMlzL9qlS3ukiEYuIQcK+0AAAnIHHQCu1qmrCvcxvEnhfTvFdlHZ6ybl7RHLPBDcvEs3GMPtIJHfGeorlvhjp8en6p4ii0GSZvCyXEcenLJK0iiRVIm8ssSSm7AzyCQa0fiLonivxBpttY+FLvT7eBnJv0vZJU89OMRhowWCnndggkYGetTeELXxnZSfZfE0PhuDTYYAltFoyzKyEEYGH4C4z09qUeo5bI6uiuAsfFmoaj8aJdI0rUrXUtCi08vcpAqt9kmDYwZB1Yn+HPrwMV39HRMOrRW1K2mvNMuba1u5LKaWNkS5jUFoiRwwB4yK8+8BaNHoPxR8WWMV1d3e21sme4vJjLLIxVyWZj/+qvQr/wC2f2bcf2X5H23ym+z/AGnPl78fLu287c9cc15xpHh34m2PjO8125k8Jn+0vIjvEja5+WOPI/dgjhsE9SRnFEfiB/D/AF3R6fRXA/FTxZf+HtMsoPDWpW0euTXcXl6eyLJLdRsxUqFPIGf4vYgEGu9XJUbhhscgdjQtVcHo7C1geJvC6+I7zQ7hrnyP7J1BL3Hl7vN2gjZnI29c556dK36KOtw3VjhviMP7IvfD/i1OBpN8Irpv+naf925P0JU/hUmrj+3/AIqaPpo+a10S3bU5x1BlfMcIPuBvb8BXSeINIi1/w7qGk3HEd5bvCT/dyMA/gcH8Kwvh/wCGNV8P2N5ceJbm3u9XvXTzprYsU8uOMIigsAegJPHVjRHfXpr/AF6PUJbeun9eq0L+o+F11Dxvo3iI3Ow6XDPF5Hl58zzABndnjGDxg5z2rforC8Z61FoXhO/un1W20qfyXW2uLnBAl2kqAp+8eOnP0pOXLH0Go3l6m7RXO+ANS1bV/AWk3/iFAmoXEG+X5Nu7k7Wx2JXBx710VVJcraJTurmP4t0AeKfCeoaIbj7N9ti8vzvL37OQc7cjPT1FYXxJiFh8I9ShUNILe3iUBRy210HA/Cu1rD8Z6Lc+IvCN9pVk8Uc9wFCNMSFGHVuSAT0HpU23sV1Vzzjxv4//ALd8Owaf/wAIn4o03zL+0P2nUdN8mFcToeW3HGcYHvXovi/wuvizS7aye5+zCC9hu93l793ltnb1GM9M9qZ410C68SeGxp9jJDHKLq3m3TMQu2OVXPQHnCnHvXQ09LfO/wCX+RPX5W/MK4vRP+SxeKv+vGx/9qV2M88VtbyT3MqQwxKXkkkYKqKBkkk8AAd64Twnqdhq/wAV/FN1pV7bX1ubKyUTW0qyISPMyMqSKPtL+ujG/hfy/NHfUUUUAFFFFABRRRQAUUUUAFFFFABRRRQAUUUUAFFFFABRRRQAUUUUAFFFFABRRRQAUUUUAFFFFABRRRQAUUUUAFFFFABRRRQAU2WKOeF4p41kjkUq6OMqwPBBB6inUUAZ+l+H9G0QyHRdIsdOMuBIbS2SLfjpnaBnGT+daFRXRcWkxhbbIEbacZwccVy/gvxbFqHhfw0NZvlbV9WtDIqlADMyD94QFG0Y9OKN/wCvX/INjpbzT7LUUjTULSC6WKQSRrPErhHHRhkcHk8+9WK87XxTPJ8LEu9dsNZ1k6nJc28n9jWoaWOIvIFbA27QEAG71x1zXSeBF09fAOjf2L9q+wG1Q2/2xgZdhGRuxxn6celC1uD3XzOgorgJPjH4fW3aeCw1m7jhd1vGtbLzVsgrlS0rA4UHaWHJOMHHNbmu+ONK0KzspRHealNfp5lpaabbmeadMAllUdgCOTjrSvpcOtjoyAQQRkHqKr2VhZ6barbadaQWkC8rFBGEUfgOKzPDPiuw8U2s0llHdW09s4jubO9hMM9uxGQHU9MjnIyK26ewbhRXOeJ/G+meF7iC0ngvtR1C4UvFYabbmed0HVto6D3JH6U+HxppR8JS+Ib8XWmWkGRPHfW7RSxMDjaU65yRgDOcjFHS4dbHQUVx2i/EvS9X1qDS7jTNZ0e4us/ZDqtiYFusDJ2HJzxzziodU+Kuj6bqt/pkWm6zqN9p8uy4t7Cy85kXareYSDgJ82Mkg5B4oA7eiuZv/iBoOneE7DxJPPIdLvnRI5kjzs3Z5YdcDBBxk+1ReHPiFpviTWZNLTT9V027EJniTUrQwfaIgcb0yTkcjrjrR1sK6tc6ODT7O1up7m2tIIZ7khp5Y4grSkcAsQMn8asVxWpfFPRtO1K4t1sNYvra0cx3eo2Vg0ttbMv3g7j074BxW3rXi7R9B0GHV725L21wUFsIFMj3LOMqsajliaOlx9bG1RXLaV47g1XTNRul0HX7Wewi81rG608x3Ey4OPLXOGJwRjPWuR0T4vXs2rayl54T8V3cUd2Ft4rfSQWtk8tTskwww2STzngijd2Dpc9PuNPsru6gubqzgmntiTBLJErNETjO0kZXOB09KsVwnxU1jTbbwtLpuuaT4gu9PvYWae40eAN9mVCrZdiQF/HIwDXWw3Fpp2gR3Ekpis7e2DmWduVjVc5Y/Qcmi+jfYOqReorhrL4s6Hd39tFLp+tWVneSLHa6neWDR2twzfdCufXtkCrev/EjSfD+uy6LLZapfamkSTR2tha+c8ytu5UA/wAO3nOOoxmgDrqK57TvG+i6j4Qm8SCWW2sLcP8AaBcRFZIGQ4ZWXk7gewzUHh7x3beIdTNiNF1zTHKF4pNSsGhjnUYyUbJz1BwcGjrYOlzqKgvLG01G1a21C1huoGILRTxh1JByMg8cEA1PXF/EnXP+EetdAvpb2WztV1mEXTxsw3RbJCVIXlgcDjnPFHVD1s2vP8Ds1VUQKihVUYAAwAKWuV8O/EDTfEWsSaWthqumXgiM0UWp2hgNxGDgumTyOR6H2qnqHxU0Ww1CeEWGsXdnayNHdanaWDSWtuy/eDSD074BoEdtRXn3xM+IFz4Z8O+ZolhqVxLcRRyw6lbWgmtYlZ1HzOTgErnHB6ir1p8SIJ9I1TUbzwz4k02DTLY3Ehv7AQ+ao6hMtgkdccUdLh2Ors9Ps9PR0sLSC1WRzI4giCBmPVjgck+tWKz59csILSaZrhC0Np9seFWHmCLBO7bnODgjPTIrD1H4iaXp+l6bcrY6ne3Wp263Vvptla+dcmMgHcVU4AGRk5+maNtP6/rRhv8A1/Xc6yisHR/GWkazod1qiSS2cViWF5FexGGW1KjcRIp6cHPcVlaX8UNI1PVbezfTtZ0+K8cR2d7f2DQ290x5UI57kdMgZo62Dpc6ttPsm1Fb9rOA3ip5a3JiXzAmc7Q2M45PHvViuP1v4l6TomuXWi/YNW1DU7dUf7Jp9oZnkRlzuUA9BxnOOvGa3fDviCx8UaHBqultIbebI2yptdGBIZWHYggiharQH5mnRRXmVv8AEOLQvEviixvINZ1m4i1LdFaafbvctbweTH82M4RN27v1zxR1t/XT/MOlz02iuel+xeP/AAdDNpWr6hZWl6Flju9Om8iZcHlc4OOQQRj1ql8MZLl/BKLe3t1fSQ3l1D9ou5TJI6pO6ruY9eAKdndph0TR11V7vT7PUBEL+0guhDIJIxNEH2OOjDI4PJ5rjr74taHZXk6JYa1eWNrIY7nVLSwaS0gZTht0nt3IBrd1vxho2g6HBqt3cNLBdFRarbIZHuWYZVY1HLEil0uHWxuUVzvh7xdD4mt7zy9L1bSp7ZQXg1S0MEmGztYckEfKeh7Vzvg/xmmn/Dfw2+qSXuq6rqQZIbeI+bcXB3tlvmYfKo5LMQAB1p2/T8QPRKK57xL4zsfDDW0M1lqOoXt0rPDY6bbGeZlXG5sDgAZHJNX9A1yHxBpS31vbXdplij297AYZY2HUMp6UlrsGxpUVjaR4nsta1vV9LtIrpJ9JlWKdpYSqMWGRtPf9Py5rZoAZPBFc28kFzEk0MqlJI5FDK6kYIIPBBHaqWl+H9G0QyHRdIsdOMuBIbS2SLfjpnaBnGT+daFFABRRRQAUUUUAFFFFABRRRQAUUUUAFFFFABRRRQAUUUUAFFFFABRRRQAUUUUAFFFFABRRRQAUUUUAFFFFABRRRQAUUUUAFFFFABRRRQAEZBFeJeH9F1u28Jvqj6PfJfeGp0jsLaSBlkuESV2lKLgEh45do9Ste20UrD6WPOtL1i48HfCzQre68Oa7f3M9qVkg0+xMskDEbj5ikgry355qx8KNYuJvCljod7oGtaXcaZZxxyS6hZGGKUjghCTk/kK72iqvq33/r9SXsvI434caU9v4Eey1WwaIzXd35sFzDjejTP95WHIKkdeorm/iP4YvIvEum6zp8fiJdMgsDZPF4XmWK4hw25cJj5kI4wOm0V6tRU228v8rFX38/87nnfwt062hn1bUIovGKXFx5UcreKlAkcKG27DjJAyQc+1eiUUVTdyUef69PqXhT4iTeI49Av9b06+0+O1c6bGJZ7d0djjZkEq27qO4qXxMNW8X+AY76w0O5tru2vob2HTb8rHLOsUgbawBIUsAcAn0ru6Knp6f53/MfW/8AW1jzWbU9T+IGuaFBB4X1jRrXS9QS+urrVYBD9xWASMZJfJbr2Fb/AIRsJrbXfF01xayQi61QPFI8ZXzUEEYBBP3hncOOM5rq6KfRrv8Arb/IN/69f8zyvTtFv/8AhWHgqyn0258631aCS4ge3bdEglclmUjIABBya6rUrO4f4qaFeR20rW8Wm3iSTrGSiMWi2qW6AnBwPY11VFO+t/Nv71YT1/D8Hc+fpPDl94emvNN1dPiVIrXEzRt4cnEtpLG7lgduPlJB5U98nvXc6tot3pGheDNT0DSr7U4NAGX0+faLoxPDszt4BkXI+Ud+lekUVK0jb0/Ab1d/X8TA8MeJ5/EvnyN4e1fR4IgArarAIXkY5yFTJOBgcn1rkk1vUPBHjLxGLzwrruqWuqXiXVtc6TaC4XHlKhDcjaQVr0yin1uHSxwXxS12eHwzqGhWfh3XdTn1OwkSObT7EzRRswKgOwOQe/Q8Ukk914/+F+raVa6PqukXX2X7Miata/ZzK+0EbeTlSRjNd9RSto0+v9fqO9mn2PKdW1fWvHGgQ+E4/Bur6VcySQC7u7yFUtbZY3VmaN8/vPu4AA711emWE6fFTXb6S1kWGTTrSOK4aM7WIaUsobocfLkD2rq6Kq/9fgTbS39b3OA0ewntfCXiyK+0GfUEuNYvHFgy7GuYXccruxkEZIPfHBrM8FXOst4qtYNEsPFVloCLILy38SRqFi+X935DMTIeeMZIxXqVFJaP5JfcrDet/Vv73cK4z4kxXf8AZ+iXtnpl1qg07V4bua3tIw8hjVXyVUkZOSK7Oijqmg7rv+p5/pVzqXjPx5pmuNoGo6Lpuk206BtUiEU08ku0YCZJCgLnJ6k152PDV74ejuNI1pPiZKBLKFPh+ZZbOaNmJBAx8pIPKnvmvoSilb+vxGmcL4n8Oz3PwVOi6Db3M0kVnb/Z4LohZmEbI2xugD4XH1qez8QHxzoer6TP4b13SGeyeNjqdn5SOXUrhGydxH4V2dFOXvXv1FH3bW6Hhtzp3iObwMPEC6JqB1S8s20aWyMDeckBgEYYp1wJlL5/uvmtPx14VvrHxNY6tbjxS2mrpkdiw8LzhLiNkYkBkPLIQe3QivX6Kcnd3/r+tW/mJKyt/XT/ACX3HkOj+FP7a+Hniy30lPFcWoaoioT4pwk0rovy7Tj7pHy5P9Kx9J0hbzWtMstYg+KpkjuoXZb2RZrKORWBBZ8YKAj7wHSvdqKL+9zen4Bb3bev4nK6HYzRfEfxTeS2siRzx2awztGQJAqNuCt3weuKPh7Z3Fj4fvIru2lt3bVb2RUljKEo07lWAPYggg9xXVUUlp91vyG9QrzKHXr/AMIeLPEsTeENe1JtSvxcWtxYWgeF18pFAaTcNvKnr0r02ijrf+un+QdLHCaLNefD74d2Z1TRtR1G8luJJJrPR7f7Q8LSu8mMAj5VztJz1xVH4X67cyWUuh3nhrxBpsrT3V0Lq9sDFDteZnVdxP3sOOMdjzXpNFG97h0/E8k0jV9d8L+EW8Fv4J1a91CFJbeC5tolNlOGLbXaUnC5DZIIq/qHh3V/DGkeCb60sJNbfw3E0N3a25HmOHiCF4wfvFSOB1INemUUa79f6/zDr9/4nPeHvEtx4mtruRvD2raRDGoEZ1SEQySsc5AQEnAwOT1z7V594L0PVvBWi6P4jXSry8862Fpqdg8LNdWqiRtrwqRuxzlox16ivYqKNndf1v8A5h5M4H4hvbGWwuLjw54ivmSNmt9R0AEXNszdVKgqwBGOoI9RWp8P5tfn0Gd/Ea3Y/wBJb7Eb+NEuTb4G3zVT5Q2cj145rqqKFpcHqY2ka1e6jrer2V1ot1YQWEqpBdzEbLsEZLJ7D8evY8Vs0UUAFFFFABRRRQAUUUUAFFFFABRRRQAUUUUAFFFFABRRRQAUUUUAFFFFABRRRQAUUUUAFFFFABRRRQAUUUUAFFFFABRRRQAUUUUAFFFFABVDXrmay8N6ldWz7JoLSWSNsA7WCEg4PHUVfrK8Uf8AIoax/wBeM3/os1FRtQbXYuGs0Y/w/tvEZ0aLUvEviX+2Rf20M0MX2CO3+z7l3EZT73UDkDp71nas3inV/iZcaVofij+xrGysLe5eL+z4rjzi8kgIy2CvCDvXS+D/APkR9D/7B8H/AKLWsmw/5LJrX/YGtP8A0bNW09Ktl3f4JmEdad31t+aLPjLxTqHhz+zIdH0T+2r3UrhoIrf7Wtv0RnJ3MCOinrirHhjVvEGqx3B8SeGf7AaMqIV+3x3Xmg5yfkA24469c1n+P9K0HU7TT28Q+JZvDptpzJbXUF/HaOX2lSA7j0J6VkfDfUbmXxHremWXiC58SaDZpF9n1C5YSMspzvj80ACTAwc9siojq2jSXRnotFZbeJdITxOnh575F1Z4PtC2xByyc8g4x2PGc4GcVqUAR3EvkW0sojeUxoW2RjLNgZwB6muKtPH2sxa5Y2niXwbdaNaalOLe0uzexT5kIJUOi8pkA+tdtPPFbW8k9zKkMMSl5JJGCqigZJJPAAHevH9QfSrPxjpWq+FvGsviXUrjUgq6VPex30cccjfvDEFGYdqkndnoMdKI/GkEvhbPY6KzNe8RaT4Y09b7XrxLO2aVYhI6kjc3QcA/n2rSVg6hkIZWGQQeCKAFrjvEXi/xFpGoXC6Z4Ju9T060XdPei9ihyNoYmOM5Z8A+3IIrsa85+IUfhfV5pY9S+IMmiT2sJjksYNTjWNz1/e25yX6/d7jipk7FKz3O60jVINb0Wz1Sz3i3vIEnjDjDBWGRkevNXK57wPqF5e+AdKvdZgS0na2DSIE8tVUdG2/wgqAcds1d0HxHpPinSzf6BereWu9ovMVWXDDqMMAa0npJpdCI7Js5O9+JmoCW9utC8I3ur6Hp8jx3WpR3McfKffMUZ5kA55GOhrq28SaWnhUeImuQNNNsLkSkdUIyOPU5xj14rxDRZLRPCt3pXjvxemnWmjSTQvoFpJ9nmuiGY5kJO+QNu4C8cjmt200rxlY+HfB1nB4UbW9OsLNbqa1bUIrb/SSxKK+/JIQEEDGNxH93FStY/dr63/pL7ynpL7/wt/T/AAO+8F+MZvFVjqU97pEukyWF0YGgkl8x8bFcEgAYOG+7ziqegfEUeIPGEejw6FfWdtNZPdwXd7+6aZVcLkRYyFOcgkj6Vg/DDV/EFx4p8TR6j4a+w282pSS3Vx/aEcn2aXy0/dbQMvwAdw45p1z4v8NH42WV6PEOlfZE0OWJrj7bH5auZlIUtuxnHOOtC3j5r/21v8xdJeT/AF/yOw8Ta7rmlSQQ+HfC8+vTSKWfF3HbRxgHHLv1J9AKj0Txpbap4Vv9ZvbO4046Y00d9bS4ZoXiGXAI4bjoR1qDxtLoN7Y29jq3jKTw2zMJ45LTVEtJZVwR1b7y8/mBXOeDtWk0r4e+J2tFTXNN0mSc2FyIgv8AaChN7bsDDncWUuB83Jqb2jLyRWjcfNlyL4l6xGbK+1bwVd2Og30sUcOofbopHAlIEbNCOVBJHc4q746+JC+DY7gW+h32qSW0STTug8qCJWYKu6Ug8kngAE/SvLrGPS9CsvD+uaR4qs9bvjdxufDSzCSGNpmGRBDuLRMm44Jz07dK7/4261pcPw21bS5tSs49QlSF47R51Err5y8hM5I4Pbsa0sk162/L+tCYe9JJ+X5neajfPYaTNeRWdxevGm5ba2AMkh9BkgVy+i+O9Sn8T22heKfC8+gXN8jvYu13HcJOEGWBKfdYDnHNbD+MfD0Hhu41oazZz6dZriae3mWVVbA+X5Sfm5HHXkVyfhvxBo3irxXa+INT1vSo7lUaDR9JS/ieWJX+87hWOZXAA2j7o45OaS+K39eQr+5dm1rfja8t9Yn0jwr4dufEOoWqq10EnS3hg3DIVpX43Ec7QDxUviHxXqWgeEbHUm0HztTu5oLf+zPtirsllONvm4KnB4zjH0rz02mnf8JV4qg8Q+P9Q8LyJqbXEVrb3sdp5iMilZNxGZQQMY7bcVv2gtvFfwh02Xxzr82mL9oEkWqCZLOSTZI3kyAuMKWUBvXvUq7gn6fjuinpJr1On8M634o1S8mj8R+EP7BhSPdHN/acVz5jZ+7hACOOc1mxfElbrxxp2g22hXyW19LPCuoXQ8lWaFCzbEI3OMjGTtH1xWP4Hv5IPiDNo2heKrzxVoa2BmuLi7nW5NtNvAVRMoAORn5e2Kb4v8U+H/8Aha/guT+3dN2WMt8t232yPFuTDtAc5+U5GOcc8VatdfP9RL7X9dLno2q6paaLpVzqOoyiK2tozJI59B2A7k9AO5rn/CHjZvEelare6npb6L/Zlw0UsU029goRX3NgDacNyOcetYvjSXxFqeu6Nc+H/DsfibQIYxdgRalDBHNPn5CS2d6qPmGBgkg54rL+Hl5rWr634t0/W/C/2Owvr6Y30x1COT7O5iRTDgDLZXncOOajXX0f4Nf8H8OrG7K3qvx/r+rGvH8TtQEcWrXvg++tPDExXZqz3MZZUYgLI0A+ZV5BznpzWr418eL4Rt5PI0e+1W4S2a6ZYE2xRxrnLPKeF6HgZPtXmOvWRfQP+EW0P4mNr8VyFtdP0ezigkkAyBiWZMnYq5Jzt4Fei/EzVtL0z4caxp19qdnb3c+mSpBBNOqSTHYR8qk5bn0om7Ruv6/ryCPxWZ0DeIbS28Ir4h1H/RrUWa3cozu2AqGwPU84965az+JOorfWDeIfCF7o2lanMsNnfyXMchLv9wSRrzHn3zzWfrt7beIvgNcW/hy8tNSurTTrZpYbeZZSpTYxRgpyCQjDHXrXI6uLLxXp+lTXHjAeIvEWoXdv9isLCXZBYjeGdvJU5G1AwLPzWjS9q10uvub/AK+4zi37JSe9n+CPS9Z8b6pFrt1pXhTwtceIJrDYL2QXcdtHCWXcFDP95sYOB0yKtx+LbvVfBo1nwvocupXnmGJtNmuFtpI3VtsiszZAKkH61y/i22sdB8S6hqOn/EmDwrNeBJr+xkjhuGlKrtDojncpKjsDnFbPwq0+407wXJPevcN9uvZ71HvBiVo3b5Wf0YgBj9azjqtf6f8Alv5ly0at/Wn/AA3kU7bx/wCKo/Euk6TrngP+zRqcxjSUaxFOVCjczbEXJAHXoOnPNL8Un8VaRot34h8PeKP7OtbKBS1h/Z8UvmtvwW8x8leGHGD096t+D8+JvEWoeMZubVs2Okg9oEb55R/vuOvoop/xd/5JPrv/AFwX/wBDWq6J9So6zt02OyQkxqT1IFLUYdY7cO5CqqZJPYYqjoHiLSvFGlrqOg3iXlozlPMVSuGHUEEAj8RR1M4/CrmlXMfEbVNQ0bwHf3ujXX2S9RoUin8tX2bpUUnawIPDHrXT1x3xW/5Jvf8A/Xa2/wDSiOla7S81+ZW2ps+G9O1rS9Nki8Ra9/btyZS63H2NLbamBhNqEg8gnPv7VyWg/EDxh4ghs7yz+Hv/ABLLpwBd/wBtQ/Km7aX2FQ3GCcdeK9EONpycDHJrw3UItL8HafA/w8+Il/qmpC4jitdFOoxXkM25xuTykX5Bgk54x9aa1lZ+QW91nudFZ+ta5p/h3R5dU1u5W1s4QPMlKltuSAOFBJ5I6VbtrmG8tIrm1lWWCZBJHIhyHUjII/CkBLXP+MPFcfhTSlmjtH1C+nYra2Ub7WmIG5jnB2qqgktjiugryPXJfG1rr/iPU5vBH9pQtDLa2V4dWgjW3tQDkrGcnLfeboTwO1RNtJ2Kirs9K8Oav/b/AIZ07V/I+z/brZJ/K37tm5QcZwM9euBWlXEfCW+1S7+HmmJqmkf2dFBawx2sn2lZftUewYkwv3M/3TzXR6H4k0jxJDcyaHfJdrazNBNtBGxx1GCB+fQ9q2mkptIzi7xTZqVi+JtU1zS7OGTw54e/t6Z5NskP21Lby1x97c4IPPGK2qgvr2307T5729kWK3t42llduiqBkms3orlrc4zQvHPiK+8ZweH9e8Hf2O8ts9yZRqkdzsRTgEqi8ZY4GSO/XBruq5DwBaXF3b3nirVIyl9rriVI26wWw4hj9vlO4+7Gtq58TaPZ+JLXQLm+jTVLyMywWxBy6jOTnGB0PU84NU+i6/1+RPd9DM8Y+KtR8Oz6Va6LoX9t3upzPFHb/bFt8bELk7mBHQH0q34Z1fXtTt7mTxN4bGgNEw8tTfx3PmDBycoBtx71mfEDSdA1KPTZPEPiabw5Jayu9rc29/HaOWK7WAZh6Ht61zvhK81DULfxfo+ma7c+I9Jt7UR2Go3DB3MzRtuj80AeZg7ee2ai7Sk/6/r1/wAirXaNy08eavreoQt4Y8I3WoaM8wjbVZruO3Qruw0iI2WdRyc8ZxWn4m8XDQrq207T9MudY1e7VngsbYhfkXgu7twi5IGT3ryG0vLfTfAen6po/wARtRk8QwQQxQaGLiPyzIML5BtAM/7OT9a6fxdbwN8VCdd8VXXha0vNHiWOe3uEtzM6SOWQTMDtxuBwOufaras0vN/lf0/r0Enpf+tzv9K1jWJ/Dc+oa74dl029hDsNPhuUuXkCjI2suAS3QCsPTvHes/8ACQ2Om+J/CFzokepSNFZ3P22K4V3CltrhPuHAPrVf4d6wUs9fW51+TVtC0y5C2msXsinenlgyBpeA4Vv465zOmad480S98K+MpvFV7dX3ky2FzeR3wggfJkeMqMwhR3zyOKPtpd7fj/XohfZflf8Ar+tTsda8S+NbHWLi30fwD/allGR5V5/bMMPmjAJOxhkYORz6Uvh7xvf634KuNdk8N3CTxTvBHY2twk7TFWC7lf5Vxuzz0wpPNSePtUuYdNttC0eTZq2uS/ZLdh1hTGZZf+Apn8SK0Lq80XwB4NR7qQWml6bAsa8ZJA4AA7sT+ZNTtFt/1/X9bFdVb+v6/TzMnQPHOoXniZNB8T+Gp9Av54WntQ10lxHOikbgGTgMM5x6VWvPiHqr314fDng+81rTNPmeG6vkuo4vnT74jjbmTHI4xkjFVvCmtaR4j8VR6/qWuaSdSlha30zSoL+KSS2iPzNuCsd0jYBOOFAx6msPX47Hwte6nHpXxNOl2k08k0+h20UNxc+c5yyRHl0LE8DbwTRJtW9H99/8u3UFZ3/r+te/Q7fUfFWqzaDpuq+C/Dx8RQ3yeYQb6O1MSkAgneDk9RjtiqPhvxvr+qeMG0DXvCP9jSJaG6aQanHc7V3bVBCLxk5xk9jxVjwjH/whXwlsDr7GD+z7IzXO7qnVyp9+cfWn+AdOul02517V4ymqa5KLqZD1hjxiKL/gKY/EmraSm10X9L/P5EJtwT6/1f8Ay+Zj2Xj/AMYarJLJo/w++12CXUlut1/bUMe7ZIULbGUEcqeK6rxJrOp6RaRf2LoFzrd3MxVYYpkiRMDOXkY4UenBryvxDDonhWzvr7wZ8R9QfV/tDvb6PHqMV1FJM8mTGLdVzyxI9u9ei+KPHFn4P0Ozm1cxDUbwBILRpljDy4GcuxwiAnlicD3OBUL4UX9r7xfCvjT+301ODU9Ln0jVNJZRe2UjiUoGXcrKy/fBAOMDtVLw78Rf+Ei8Zf2LHoV7YwPYNfQXN7iN5kEgTIixkKckgkg8dOad4Ek0gtqN2niHS9Y1u/YXOovY3SSLGANqooBJCKOAT16nrXPN4v8ADR+O0d+PEOlfY/8AhHjD9p+2x+X5n2gHZu3Y3Y5x1xVpe8k+36P9RfZbX9ar9DqvEvjK50rV4tF8PaHNr+sSQ/aGto50gSGLONzyNwMnIA74NRab42vdZ8OajcaX4emfXdNmEFxo09ykTLJkdJT8u3adwbviuP8AFU95Y/Fq7hk8S23hjTtY06Fv7SlUb5BEWBjikY7EPz5JPPTFafwn02wt9c8U32gT3F1pE00EEN5cTNKbqWND5sm4/eyz4yODjipjqnfz/O39dRy0f3fl/Xy8yZ/iF4vstW0u01r4ffYU1G7S1SQa1DKQTyTsVckBQSeg46itTWfE3jay1a4t9J8Af2lZRtiK7/tqGHzRjrsYZXnI59Ki8PN/wlfji+8Sv82naZv07S/R2z+/mH1ICA+in1q14+1G5NlaeHNIlMep67IbaN16wQgZml/4CuQPcilrZW3f67f5/PXYOrv0/p/5fIqab8RzP8PJPFGqaLLaH7QbeGzgnWczt5gjXa+FBBc4z04zk07SfHOsv4kstI8VeEZ9CbUS4s5hfR3KyMi7iG2fd4HvUfxDNp4a+Fb2FtY2z2WIbELcoWhgjZgnmOBzhevbnFch4Xi0/wAN/EXQ4NC8Ux+MVvoHtpfNuFuZrBVXdvjZSfLQkYKn25NUrOT7bfh/Xlr5Ml3Uf6/r9dPM6f4lSeKtFt21/RPFH2OxheCNtN/s+KTeWlClvNbJHDdMdq9Crivi3/yTi7/6+LX/ANHx12M88dtbyTzuEiiQu7HoqgZJpKyjr3f5Ie8v68ySis/Q9e0zxLpEWp6Jdrd2cuQkqgjkHBBBAIPsRWhRsBy3xF1HU9M8INLod79gvZbu2t0uPKWXyxJMiE7WGDwxrS0Kz1fSNEePX9YbXrtWZ/tCWaQFlxwgRTjPHXvmsf4nf8ijD/2FLH/0pjrrZZY4IXlndY441LO7nCqBySSegpL4X6/ogfxL+urOHtvH+tQ6xYweI/Bl3pFhqNwtta3hvIpj5jZ2h415TOPU4ruq8b1iTSbXxVp2seFvGsniPVJtTXy9HmvY76JUkbD+Uq8w7VJIbPAGO9evz3MNrGHuJFjUnALHvTulDmen9ILNysv63JaKKKACqWs2cmo6Df2UBVZLm2kiQucKCykDOO3NXagvb+002zku9RuobW3jGXmnkCKv1J4pSSaaY4tp3RzngWw8W6Xpq6f4sbRWgtYIobRtMMpYhRg+ZvwOgXp71R1jQ/GMPxAl1zwq+hm1urOG2uE1Izbxsd2JUIMdH7mul0DxHpXijTmvtBu1vLVZWiMqoyjcvUDcBnr1HFY958UPBmn682jXmv20V8r+W6FX2o2cYZ8bQc+p4qm25Jvciy5Wlsbup6JpWtxxx6zplnqCRnci3dusoU+oDA4qzbWtvZWyW9nBFbwRjCRRIFVR6ADgVT1zxBpXhvS21HXL6KztVIHmSH7xPQADkn2GTUHhzxboXi6ze68O6jFexRttfaCrIe2VYBh+I5pLrYrtcxLPwhql58Qx4p8S3Vi5sUlg0y3somG2NifmkZuS204wOBk4rs6KjubmGztZbm6lWGCFC8kjnCooGSSfTFGyt2Dd37izwRXNvJBcxJNDKpSSORQyupGCCDwQR2qjpnh7RdFZ20bSLDT2cYc2tskRb67QM0zQfEmk+JtHGqaJdi5sizL5pjaPlevDAGotJ8X6Br2q3Wm6NqkF9c2ah51gJZUBOB84G089gTR1sHQyPHnhXV/GdvFosd3ZWuhTbWvmaJnuWKuGCx/wgHHU8iuthiSCCOGIbUjUKo9ABgVkeIvGPh/wpCsniDVbey3/AHEYlpH9wi5Yj3AqfXvEWl+GNHfVdcuvstkjKrS+Wz4LHA4UE9faktEN3bNOsuTwvoEuqHUpdD0178tuN01pGZSfXfjOfxrntL+L3gbWtVttN0zXPOu7qQRwx/ZJ13MegyUAH4mpdc+K3gzw3rE2la1rP2a9gx5kX2WZ9uQCOVQg8Ed6e2ot9DsOvWq9lp9nplv9n060gtIdxby4Igi5PJOAMZNUpPE+jQ+Go/EE+oRQ6VJEsyXMuUBVvu8EZyc9MZ9qoeG/iD4W8XXUlt4e1iK7njXc0RR43x6gOASPcU7O9g6XNW40HSLzUo9Qu9KsZ72LHl3MtsjSJjphiMir9crf/Ezwbpevf2Nf6/bQ3wbY0ZDFUb0ZwNqn6kYrU8Q+KdF8Kaat/wCINQjsrdm2qzAsXPXAVQSfwFK+l+gdbdS/BZWlq07W1tDC1w/mTGOMKZXxjc2OpwAMn0rHPgLweTk+FNDJ/wCwdD/8TVnw/wCKdF8Vac194f1CK9t1ba7JlSh9GVgCv4isu1+Jvg298QDRbXxBay3zPsVF3bXb+6smNhPsDRbWwX0ua+oeGtC1aSKTVNF069eFdkTXNokhRfQFgcD2FaMUUcMSxQoscaDaqIMBR6AVh+JvG3h3wckLeI9TjsvPz5alGdmx1IVQTj3xVzT/ABDpOraH/bGm30V1p+xnM8WSAF65HUEemM0X0b6BbVILXw5ollqDX9lo2n294+S1xFaokjZ65YDNN1LwvoGs3QudX0PTb+cKEEt1aRysFHQZYE45PHvXPaX8XvA2tarbabpmuedd3Ugjhj+yTruY9BkoAPxNdTq2rWOhaVPqWrXK2tnbruklfJAH0HJOeAByaHorsFq7LcrxeF9Ah0uXTYdD02OwmYPLapaRiKRhjlkxgngckdhUNr4M8L2N1HdWXhvSLe4ibdHLDYRI6H1BC5BqO68beH7LwnF4mudQ2aPMFKXPkyHIY4Hyhd3X2rI0v4veBta1W203TNc867upBHDH9knXcx6DJQAfiaet7LcTta72Om1DQdI1aaKbVdKsr2WH/VPc26SMn0LA4/CpNQ0rTtWsxa6rYWt9bAhhDcwrImR0O1gRWFrfxK8IeHNYGl6zrcNte8Zi2O+zPI3FVIXgg8kV0sM0VxBHNbyLLFIodJEbKspGQQR1FLdeQ9mRWOnWWl2q22mWdvZ26/dit4ljQfgABWXN4I8KXM8k9x4Y0aWWRi7yPp8TM7E5JJK8knvW5RQBHbW0Fnax21pDHBBEoSOKJAqoo6AAcAe1MgsrS1adra2hha4fzJjHGFMr4xubHU4AGT6VPRQBQ03QdI0YudH0qxsDJ9/7LbJFu+u0DNM1Pw5omtyJJrOj6fqDxjajXdqkpUegLA4rSooAoaXoWkaIsi6LpVlp6ykGQWlukW/HTO0DPU0Weg6Rp17LeafpVja3U3+tngtkR5PqwGT+NX6KAM+bQNHuNUXUrjSbGW/UALdPbI0oA6fORn9avSxRzwvFMiyRyKVdHGQwPUEdxTqKOlg8yK2toLO1jtrOGOCCJQkcUSBVRR0AA4AriviNoPjLxPYT6N4fk0KPSbuBVna9MwnDhsnaVBXGAvUetd1RR1uNO2xnaymsf2JInh1rJdRwoia+DGIcjcSF56Zx74rN8DeEU8G+HjYeeLm4nne5uZljCK8jnnCjoBgAD2ro6KNrk20S7BXPeO9CvvEngy90vSnt47yZomia5LCMFJFf5ioJ/h7CuhooGY/hseJDpsg8YjSjeGU7BpfmeV5eBjPmc7s7vbGKl07w3oejztNpGi6fYSsMNJa2qRMR7lQK06KYHLeO9B1zxPpI0bSbuwtLC8V49QluImklCHGPKA+XP3sk9OMVvaVpsGj6PaabZgi3tIUhjycnaoAGfyq3RSWiDcKbJGksbRyoro4KsrDIYHqCKdRQBQu7a5s9BktvDUNlb3EUOyzimQrAhA+UEJyFHoKxfA3hCTwta6hNf3Md1qeq3TXd5LDF5cYc/wAKL6Dnk8nJrqaKOtw6WCobyztdQtJLW/tobq3lGJIZow6OPQqeDU1FACKoVQqgAAYAA6VBJp9lLfxX0tpA93CpSK4aJTJGp6gNjIB9qsUUAUdT0PSdbSNNZ0uy1BYiTGt3bpKEJ6kbgcVat7aCzt0gtIY4IYxhI4kCqo9ABwKkooAz00DR4tVbU49JsU1BvvXa2yCU/V8Z/WpdR0nTtYthb6tYWt9CDuEV1Csq59cMCKt0UAVv7NsTpp042Vv9hMZjNr5S+UUP8OzGMe1QaZoGj6Lv/sbSbHT/ADPv/ZLZIt312gZrQooAgaxtHvo717WFruNDGlwYwZEU8lQ3UA4HFN1DTbHVrNrTVLK3vbZiC0NzEsiEjkHawIqzRQBjWfg/wzp15Hd6f4d0m1uYjmOaCxiR0PThguRVmLQNHh1R9Sh0mxjv5Dl7pLZBKx9S+Mn860KKAILyxtNRtWtdQtYbq3cgtFPGHRsHIyDxwQDU/TpRRQBmWXhrQtNvmvNO0XTrS6cktPBaIjtnrlgM0/VNA0fW/L/trSbHUfKz5f2u2SXZnrjcDjOB+VaFFAGZpvhrQtHkkk0jRdOsHlXZI1raJEXX0JUDI9qp/wDCBeD/APoVND/8F0P/AMTW/RQBT1DSNN1a1Ftqun2t7bqQRFcwLIgI9mBFTwWtvbWqW1tBHDAi7VijQKqj0AHAFS0UAQ2dla6faR2thbQ2tvGMJDBGERB14UcCkNjaNfrfNawm7SMxLcGMeYqE5KhuuM84qeigBskSTRNHMiyRuMMjDIYehFUdN0DR9GaRtH0mxsDJ982tskW/67QM1oUUAcJ4/wBA8ZeJs6XpEmhR6JIYXla6aYXO5JA5wVBXHyjqPWuo8QJrUujyJ4aexjv2ICvfqzRqufmOF5Jx07Z61p0UraWDrc5/wR4Th8F+FoNIhm+0MrNLNNsCeZIxySFHQdgPQV0FFFU3cDnPHeh6j4h8KvZaI9ql8tzBcRG7LCLMcqvhtoJ/h7Vc0KLXJ9EeLxnHpUl3IzK6aeHMDRkYAIk5J657Vr0Uls13DqmZumeHNE0WRpNH0fT9PdxhmtbVIiw9yoFUvE8fi2U2w8ITaPCvzG4bUkkYnptChP8AgWc+1b9FJ67gtAooopgFUtU0fTtagjg1eyhvYopRMkc6BlDjODg8Hqau1l+IdE/4SDSWsf7T1HTMurfaNNuPJmGO27B4PekxnMfCcBdF10KMAeIL4ADt+8qn8R9P8US6VqUFhZaLN4YaLzbyBC0d7IPvSlWIMYJ5OSM/jzWl4W+GVp4S1QXlj4i8RXKl3ke1u74PBK7j5nZAgy3fPXNJP8MLK+1G4n1TxF4l1C1uJGeTTrjU2+zEE52bFAO0dAM9KJK6S8l+CsKOl/X83c5zxPrwl8WeCL3StFuNZjuNNmuNMsdyoPNKxlWdmOF2oTzzipfC9tr9t8bJp/EEtgLvUNFMtza6ehCQBZVWPcx5dsbuT7gcYrtvEfg7S/EunW1rdCa0azYPaXNjJ5MtsQMZRh044x0/Km+F/BuneFftMttPe317dlftF9qE5mnlC/dBY9h6ACqTXNf1/G/+f4Ct7tvT8P8AhvxOgry34h+N/D0Xi238MeJ9R+waVDGl3eqYJJDdnOY4fkU/JxubPXgetdq3hGwbxyniszXf29LU2oj879zsznO3HX8cd8Z5rdqddH/X9bMruv6/roeWfCjxD4c8SaPrWgQzrdPPe3lxJbGF1DW0kpwckAchhxnIz0rT8PWFppnxm1iz062itbaLRbVUihQKqjzH6AV0+l+GbXR9HvtPsrm6RL2eedpfMAkjeVizFCAMYJ49PeuUt/g9aW2q/wBop4x8Xm7YKrytqg3SKpyEY7MlevGe9Nbx8l+jX4Ev4X6/qmR/GfRtNT4d69q62MH9oyQwRNdbAZNgmTC57DntXo0f+qT/AHRXI+MfhxaeNbhm1HXtetbZ4ljeys7wJbvtbcGMZUgnOOfYelanh/wwfD+kXFgmuaxqJmYsLnUboTyxZUDCkrgAYyBg80J+60U9bf12/wAjFsW/4S34iz35+fSvDha2tv7st4w/eP77FOwe7NVK+0rx5onirXNW8Mp4futPv5I52gvZJlnOyJUIBUbRnb3zXY+H9CtPDWh2+lad5hhgB+eVtzyMSSzMcDLEkkn3rB1j4c22uazcXt/4h8R/ZrgjzNMi1Jo7UjABXYoBAOOeepNJ3WiDu2YHijxFa+K/hTo+rpBcwahfXcLaZbxBZGF4GIVTu+UplWyTjjnrTNBm1xfilYL8RoLaPVHsZU0mXTh/o7jAMwbPz7wAOvy9cV2mq+DNF1fw5b6JLbNb2loUa1+yuY3tmQYVkYcgiqXh74fadoOqrqc2pavrN/GjRw3GrXhuGhVvvBOABnHXGapW5m+mv5W+/wDQl3cUv63ucTNaeLfCvg7WPD83hfS7/TNtzLJrM9+qRujlm3SRY3l8HHHcDmuw0WDXH+Fehvpcdi2uRafbmJtVVyikqobcV+YHbnp360S/DPS77V5b3WdU1rV4ZJzOun31+z2sbbtwCxgAYHYHIrU8TeFv+Elgt4hrms6OIGJ3aTd+QZMjo3ByBjipWkfu/D/hynrK/r+JzfgBr218X+I7LxLaQQ+ILgQ3dxLZvm2miwUQoCAy42sDuySec44C+Kra08WXlp4R0O3iKWN3Fc311EgEdgqNuCKR/wAtWxjA6Akn36LQfCGneHbW6SzlvJrm8AFxf3Vw0txLgYBLn0zwBwPSuWsvgzZ6bAYNO8Z+MbSIsXMcGqBFLE5JwE6k96fVeVvwJ6PzOs8TQ+IDaxzeEI9HOpBtryaqsm0RYOQDHznOPbrXL+AoJJ/DPiTRJ7ZbTWku51v/AJw0LzSpuDoVAwhDLgYyMc5PJ3PEPgn/AISC4tpD4l8RaYLeIR7NNv8AyVl5+842nLe9XtK8L6fomhz6ZpZuIFuN7S3ImLTvIwwZDIckv79sCk0nGSfVWKvqn2OG07VPG3w90/Q7HxRZ6HeaOJLfTEl02WUTR5wiMwcYbpzjFUvFXxB8LT+O7nT/ABRqf2Sz0M/uLQ28sn2m6K/6xtqkbUzhQf4snsK63Sfhnpmn6lBf6jqut69Pav5lsdYv2nWB/wC8q4Az7kGuwljEsLxtkB1KnHvRO8ld76/1+f8ASCNkzgfgx4h0vV/h3p1hp1151zplukV3H5bL5bHOBkgA9D0zVqxb/hLfiLPfn59K8OFra2/uy3jD94/vsU7B7s1dFougW+g+GLbQ9PnuBBaweTFM7KZAP72cYzz6Y9qd4f0K08NaHb6Vp3mGGAH55W3PIxJLMxwMsSSSferk7zcv6/r+uhEU1BI57xxp/i64t7iDwjbaG1ndQML1bsMtxKxGPkOCmduAC4PPtWl4CvLG+8A6NNpMMsFmLVY44pm3Omz5SCe/KnnvVDVfh1BrGtT3134l8TLBcNl9Ph1No7bGMFQijIB9M9zXUWFja6Zp8Fjp8CW9tboI4okGAqjoKmOkX8v1KerLFFFFABRRRQAUUUUAFFFFABRRRQAUUUUAFFFFABRRRQAUUUUAFFFFABRRRQAUUUUAFFFFABRRRQAUUUUAFFFFABRRRQAUUUUAFFFFABRRRQAUUUUAFFFFABRRRQAUUUUAFFFFABRRRQAUUUUAFFFFABRRRQAUUUUAFFFFABRRRQAUUUUAFFFFABRRRQAUUUUAFFFFABRRRQAUUUUAFFFFABRRRQAUUUUAFFFFABRRRQAUUUUAFFFFABRRRQAUUUUAFFFFABRRRQAUUUUAFFFFABRRRQAUUUUAFFFFABRRRQAUUUUAFFFFABRRRQAUUUUAFFFFABRRRQAUUUUAFFFFABRRRQAUUUUAFFFFABRRRQAUUUUAFFFFABRRRQAUUUUAFFFFAH//2Q==)\r\n",
        "\r\n",
        "\r\n",
        "\r\n",
        "Its not necessary that every execution will give same area because moves are chosen randomly. It may happen that even for same number of iterations once we may get different minimum areas. "
      ]
    }
  ]
}